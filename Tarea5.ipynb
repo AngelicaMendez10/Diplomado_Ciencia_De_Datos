{
 "cells": [
  {
   "cell_type": "markdown",
   "id": "fd478864-5c71-46fa-92cf-7a609b8b96cd",
   "metadata": {
    "tags": []
   },
   "source": [
    "<h1 style=\"color:red;\"> <strong> <center>Tarea 5. Predicción del valor de las acciones en la bolsa</center></strong> </h1>\n",
    "<h3><center><strong>Angelica Mendez Buitrago </strong></center></h3>\n",
    "<h4 style=\"color:blue;\"><center><strong>Universidad Nacional de Colombia</strong></center></h4>\n",
    "<h4 style=\"color:blue;\"><center><strong>Facultad de Ciencias</strong></center></h4>\n",
    "<h4 style=\"color:blue;\"><center><strong>Departamento de Estadística</strong></center></h4>"
   ]
  },
  {
   "cell_type": "markdown",
   "id": "17528080-21ac-4bce-8f8d-793270554d98",
   "metadata": {},
   "source": [
    "#### 1. Suscríbase a las API de Yahoo-Finance y Alpha-Vantage.\n"
   ]
  },
  {
   "cell_type": "code",
   "execution_count": 1,
   "id": "d1a31654-af6e-495b-ab10-221ca04c361e",
   "metadata": {
    "tags": []
   },
   "outputs": [
    {
     "name": "stdout",
     "output_type": "stream",
     "text": [
      "Requirement already satisfied: alpha_vantage in c:\\users\\lorenzo\\anaconda3\\lib\\site-packages (2.3.1)\n",
      "Requirement already satisfied: aiohttp in c:\\users\\lorenzo\\anaconda3\\lib\\site-packages (from alpha_vantage) (3.8.4)\n",
      "Requirement already satisfied: requests in c:\\users\\lorenzo\\anaconda3\\lib\\site-packages (from alpha_vantage) (2.28.1)\n",
      "Requirement already satisfied: yarl<2.0,>=1.0 in c:\\users\\lorenzo\\anaconda3\\lib\\site-packages (from aiohttp->alpha_vantage) (1.8.2)\n",
      "Requirement already satisfied: charset-normalizer<4.0,>=2.0 in c:\\users\\lorenzo\\anaconda3\\lib\\site-packages (from aiohttp->alpha_vantage) (2.0.4)\n",
      "Requirement already satisfied: aiosignal>=1.1.2 in c:\\users\\lorenzo\\anaconda3\\lib\\site-packages (from aiohttp->alpha_vantage) (1.3.1)\n",
      "Requirement already satisfied: multidict<7.0,>=4.5 in c:\\users\\lorenzo\\anaconda3\\lib\\site-packages (from aiohttp->alpha_vantage) (6.0.4)\n",
      "Requirement already satisfied: attrs>=17.3.0 in c:\\users\\lorenzo\\anaconda3\\lib\\site-packages (from aiohttp->alpha_vantage) (21.4.0)\n",
      "Requirement already satisfied: async-timeout<5.0,>=4.0.0a3 in c:\\users\\lorenzo\\anaconda3\\lib\\site-packages (from aiohttp->alpha_vantage) (4.0.2)\n",
      "Requirement already satisfied: frozenlist>=1.1.1 in c:\\users\\lorenzo\\anaconda3\\lib\\site-packages (from aiohttp->alpha_vantage) (1.3.3)\n",
      "Requirement already satisfied: certifi>=2017.4.17 in c:\\users\\lorenzo\\anaconda3\\lib\\site-packages (from requests->alpha_vantage) (2022.9.14)\n",
      "Requirement already satisfied: idna<4,>=2.5 in c:\\users\\lorenzo\\anaconda3\\lib\\site-packages (from requests->alpha_vantage) (3.3)\n",
      "Requirement already satisfied: urllib3<1.27,>=1.21.1 in c:\\users\\lorenzo\\anaconda3\\lib\\site-packages (from requests->alpha_vantage) (1.26.11)\n",
      "Note: you may need to restart the kernel to use updated packages.\n"
     ]
    }
   ],
   "source": [
    "pip install alpha_vantage\n"
   ]
  },
  {
   "cell_type": "markdown",
   "id": "51eccc2d-a013-4cff-86ef-2cdbb4742bc7",
   "metadata": {},
   "source": [
    "#### 2. Baje un conjunto  de datos que incluya la mayor cantidad de datos para un conjunto de empresas seleccioandas por usted.\n"
   ]
  },
  {
   "cell_type": "markdown",
   "id": "d1a181d4-bc16-4f6e-88cd-2f26087b9578",
   "metadata": {},
   "source": [
    "Lista de los símbolos de 10 empresas que se pueden utilizar para descargar datos de Alpha Vantage:\n",
    "\n",
    "Apple Inc.: AAPL\n",
    "\n",
    "Amazon.com Inc.: AMZN\n",
    "\n",
    "Alphabet Inc. (Google): GOOGL\n",
    "\n",
    "Microsoft Corporation: MSFT\n",
    "\n",
    "Facebook, Inc.: FB\n",
    "\n",
    "Tesla, Inc.: TSLA\n",
    "\n",
    "Johnson & Johnson: JNJ\n",
    "\n",
    "JPMorgan Chase & Co.: JPM\n",
    "\n",
    "Procter & Gamble Co.: PG\n",
    "\n",
    "Visa Inc.: V"
   ]
  },
  {
   "cell_type": "code",
   "execution_count": 7,
   "id": "6f354915-0d96-4b27-95e8-4ec9a1d1072d",
   "metadata": {
    "collapsed": true,
    "jupyter": {
     "outputs_hidden": true
    },
    "tags": []
   },
   "outputs": [
    {
     "ename": "ValueError",
     "evalue": "Thank you for using Alpha Vantage! This is a premium endpoint. You may subscribe to any of the premium plans at https://www.alphavantage.co/premium/ to instantly unlock all premium endpoints",
     "output_type": "error",
     "traceback": [
      "\u001b[1;31m---------------------------------------------------------------------------\u001b[0m",
      "\u001b[1;31mValueError\u001b[0m                                Traceback (most recent call last)",
      "\u001b[1;32m~\\AppData\\Local\\Temp\\ipykernel_5320\\2870607774.py\u001b[0m in \u001b[0;36m<module>\u001b[1;34m\u001b[0m\n\u001b[0;32m     16\u001b[0m \u001b[1;31m# Descarga los datos para cada símbolo y los agrega al DataFrame\u001b[0m\u001b[1;33m\u001b[0m\u001b[1;33m\u001b[0m\u001b[0m\n\u001b[0;32m     17\u001b[0m \u001b[1;32mfor\u001b[0m \u001b[0msymbol\u001b[0m \u001b[1;32min\u001b[0m \u001b[0msymbols\u001b[0m\u001b[1;33m:\u001b[0m\u001b[1;33m\u001b[0m\u001b[1;33m\u001b[0m\u001b[0m\n\u001b[1;32m---> 18\u001b[1;33m     \u001b[0mdata\u001b[0m\u001b[1;33m,\u001b[0m \u001b[0mmeta_data\u001b[0m \u001b[1;33m=\u001b[0m \u001b[0mts\u001b[0m\u001b[1;33m.\u001b[0m\u001b[0mget_daily\u001b[0m\u001b[1;33m(\u001b[0m\u001b[0msymbol\u001b[0m\u001b[1;33m=\u001b[0m\u001b[0msymbol\u001b[0m\u001b[1;33m,\u001b[0m \u001b[0moutputsize\u001b[0m\u001b[1;33m=\u001b[0m\u001b[1;34m'full'\u001b[0m\u001b[1;33m)\u001b[0m\u001b[1;33m\u001b[0m\u001b[1;33m\u001b[0m\u001b[0m\n\u001b[0m\u001b[0;32m     19\u001b[0m     \u001b[0mdata\u001b[0m \u001b[1;33m=\u001b[0m \u001b[0mdata\u001b[0m\u001b[1;33m.\u001b[0m\u001b[0mloc\u001b[0m\u001b[1;33m[\u001b[0m\u001b[0mstart_date\u001b[0m\u001b[1;33m:\u001b[0m\u001b[0mend_date\u001b[0m\u001b[1;33m]\u001b[0m\u001b[1;33m\u001b[0m\u001b[1;33m\u001b[0m\u001b[0m\n\u001b[0;32m     20\u001b[0m     \u001b[0mdata\u001b[0m\u001b[1;33m[\u001b[0m\u001b[1;34m'symbol'\u001b[0m\u001b[1;33m]\u001b[0m \u001b[1;33m=\u001b[0m \u001b[0msymbol\u001b[0m\u001b[1;33m\u001b[0m\u001b[1;33m\u001b[0m\u001b[0m\n",
      "\u001b[1;32m~\\anaconda3\\lib\\site-packages\\alpha_vantage\\alphavantage.py\u001b[0m in \u001b[0;36m_format_wrapper\u001b[1;34m(self, *args, **kwargs)\u001b[0m\n\u001b[0;32m    216\u001b[0m         \u001b[1;33m@\u001b[0m\u001b[0mwraps\u001b[0m\u001b[1;33m(\u001b[0m\u001b[0mfunc\u001b[0m\u001b[1;33m)\u001b[0m\u001b[1;33m\u001b[0m\u001b[1;33m\u001b[0m\u001b[0m\n\u001b[0;32m    217\u001b[0m         \u001b[1;32mdef\u001b[0m \u001b[0m_format_wrapper\u001b[0m\u001b[1;33m(\u001b[0m\u001b[0mself\u001b[0m\u001b[1;33m,\u001b[0m \u001b[1;33m*\u001b[0m\u001b[0margs\u001b[0m\u001b[1;33m,\u001b[0m \u001b[1;33m**\u001b[0m\u001b[0mkwargs\u001b[0m\u001b[1;33m)\u001b[0m\u001b[1;33m:\u001b[0m\u001b[1;33m\u001b[0m\u001b[1;33m\u001b[0m\u001b[0m\n\u001b[1;32m--> 218\u001b[1;33m             call_response, data_key, meta_data_key = func(\n\u001b[0m\u001b[0;32m    219\u001b[0m                 self, *args, **kwargs)\n\u001b[0;32m    220\u001b[0m             \u001b[1;32mif\u001b[0m \u001b[1;34m'json'\u001b[0m \u001b[1;32min\u001b[0m \u001b[0mself\u001b[0m\u001b[1;33m.\u001b[0m\u001b[0moutput_format\u001b[0m\u001b[1;33m.\u001b[0m\u001b[0mlower\u001b[0m\u001b[1;33m(\u001b[0m\u001b[1;33m)\u001b[0m \u001b[1;32mor\u001b[0m \u001b[1;34m'pandas'\u001b[0m\u001b[0;31m \u001b[0m\u001b[0;31m\\\u001b[0m\u001b[1;33m\u001b[0m\u001b[1;33m\u001b[0m\u001b[0m\n",
      "\u001b[1;32m~\\anaconda3\\lib\\site-packages\\alpha_vantage\\alphavantage.py\u001b[0m in \u001b[0;36m_call_wrapper\u001b[1;34m(self, *args, **kwargs)\u001b[0m\n\u001b[0;32m    158\u001b[0m             \u001b[1;32melse\u001b[0m\u001b[1;33m:\u001b[0m\u001b[1;33m\u001b[0m\u001b[1;33m\u001b[0m\u001b[0m\n\u001b[0;32m    159\u001b[0m                 \u001b[0murl\u001b[0m \u001b[1;33m=\u001b[0m \u001b[1;34m'{}{}'\u001b[0m\u001b[1;33m.\u001b[0m\u001b[0mformat\u001b[0m\u001b[1;33m(\u001b[0m\u001b[0murl\u001b[0m\u001b[1;33m,\u001b[0m \u001b[0mapikey_parameter\u001b[0m\u001b[1;33m)\u001b[0m\u001b[1;33m\u001b[0m\u001b[1;33m\u001b[0m\u001b[0m\n\u001b[1;32m--> 160\u001b[1;33m             \u001b[1;32mreturn\u001b[0m \u001b[0mself\u001b[0m\u001b[1;33m.\u001b[0m\u001b[0m_handle_api_call\u001b[0m\u001b[1;33m(\u001b[0m\u001b[0murl\u001b[0m\u001b[1;33m)\u001b[0m\u001b[1;33m,\u001b[0m \u001b[0mdata_key\u001b[0m\u001b[1;33m,\u001b[0m \u001b[0mmeta_data_key\u001b[0m\u001b[1;33m\u001b[0m\u001b[1;33m\u001b[0m\u001b[0m\n\u001b[0m\u001b[0;32m    161\u001b[0m         \u001b[1;32mreturn\u001b[0m \u001b[0m_call_wrapper\u001b[0m\u001b[1;33m\u001b[0m\u001b[1;33m\u001b[0m\u001b[0m\n\u001b[0;32m    162\u001b[0m \u001b[1;33m\u001b[0m\u001b[0m\n",
      "\u001b[1;32m~\\anaconda3\\lib\\site-packages\\alpha_vantage\\alphavantage.py\u001b[0m in \u001b[0;36m_handle_api_call\u001b[1;34m(self, url)\u001b[0m\n\u001b[0;32m    359\u001b[0m                 \u001b[1;32mraise\u001b[0m \u001b[0mValueError\u001b[0m\u001b[1;33m(\u001b[0m\u001b[0mjson_response\u001b[0m\u001b[1;33m[\u001b[0m\u001b[1;34m\"Error Message\"\u001b[0m\u001b[1;33m]\u001b[0m\u001b[1;33m)\u001b[0m\u001b[1;33m\u001b[0m\u001b[1;33m\u001b[0m\u001b[0m\n\u001b[0;32m    360\u001b[0m             \u001b[1;32melif\u001b[0m \u001b[1;34m\"Information\"\u001b[0m \u001b[1;32min\u001b[0m \u001b[0mjson_response\u001b[0m \u001b[1;32mand\u001b[0m \u001b[0mself\u001b[0m\u001b[1;33m.\u001b[0m\u001b[0mtreat_info_as_error\u001b[0m\u001b[1;33m:\u001b[0m\u001b[1;33m\u001b[0m\u001b[1;33m\u001b[0m\u001b[0m\n\u001b[1;32m--> 361\u001b[1;33m                 \u001b[1;32mraise\u001b[0m \u001b[0mValueError\u001b[0m\u001b[1;33m(\u001b[0m\u001b[0mjson_response\u001b[0m\u001b[1;33m[\u001b[0m\u001b[1;34m\"Information\"\u001b[0m\u001b[1;33m]\u001b[0m\u001b[1;33m)\u001b[0m\u001b[1;33m\u001b[0m\u001b[1;33m\u001b[0m\u001b[0m\n\u001b[0m\u001b[0;32m    362\u001b[0m             \u001b[1;32melif\u001b[0m \u001b[1;34m\"Note\"\u001b[0m \u001b[1;32min\u001b[0m \u001b[0mjson_response\u001b[0m \u001b[1;32mand\u001b[0m \u001b[0mself\u001b[0m\u001b[1;33m.\u001b[0m\u001b[0mtreat_info_as_error\u001b[0m\u001b[1;33m:\u001b[0m\u001b[1;33m\u001b[0m\u001b[1;33m\u001b[0m\u001b[0m\n\u001b[0;32m    363\u001b[0m                 \u001b[1;32mraise\u001b[0m \u001b[0mValueError\u001b[0m\u001b[1;33m(\u001b[0m\u001b[0mjson_response\u001b[0m\u001b[1;33m[\u001b[0m\u001b[1;34m\"Note\"\u001b[0m\u001b[1;33m]\u001b[0m\u001b[1;33m)\u001b[0m\u001b[1;33m\u001b[0m\u001b[1;33m\u001b[0m\u001b[0m\n",
      "\u001b[1;31mValueError\u001b[0m: Thank you for using Alpha Vantage! This is a premium endpoint. You may subscribe to any of the premium plans at https://www.alphavantage.co/premium/ to instantly unlock all premium endpoints"
     ]
    }
   ],
   "source": [
    "from alpha_vantage.timeseries import TimeSeries\n",
    "import pandas as pd\n",
    "\n",
    "ts = TimeSeries(key='588A7VF9GZ37XYPY', output_format='pandas')\n",
    "\n",
    "# Define la lista de símbolos de las empresas \n",
    "symbols = ['TSLA']\n",
    "\n",
    "# Define el rango de fechas que deseas descargar\n",
    "start_date = '2022-01-01'\n",
    "end_date = '2022-01-01'\n",
    "\n",
    "# Crea un DataFrame vacío para almacenar los datos descargados\n",
    "df = pd.DataFrame()\n",
    "\n",
    "# Descarga los datos para cada símbolo y los agrega al DataFrame\n",
    "for symbol in symbols:\n",
    "    data, meta_data = ts.get_daily(symbol=symbol, outputsize='full')\n",
    "    data = data.loc[start_date:end_date]\n",
    "    data['symbol'] = symbol\n",
    "    df = df.append(data)\n",
    "\n",
    "# Muestra los primeros cinco registros del DataFrame resultante\n",
    "print(df.head())\n"
   ]
  },
  {
   "cell_type": "markdown",
   "id": "9f6a19a9-b61a-477c-bdf2-0a50e8dba7d8",
   "metadata": {},
   "source": [
    "#### 3. Incluya todas las variables que considere necesario: precio apertura, promedio, alto, bajo , cierre, volumen transado.\n"
   ]
  },
  {
   "cell_type": "code",
   "execution_count": null,
   "id": "41094dad-3e71-41a3-a4fa-bbe48f657e93",
   "metadata": {},
   "outputs": [],
   "source": []
  },
  {
   "cell_type": "code",
   "execution_count": 8,
   "id": "8e52607c-743b-4cff-836e-d9a22b20b689",
   "metadata": {},
   "outputs": [
    {
     "ename": "ValueError",
     "evalue": "Thank you for using Alpha Vantage! This is a premium endpoint. You may subscribe to any of the premium plans at https://www.alphavantage.co/premium/ to instantly unlock all premium endpoints",
     "output_type": "error",
     "traceback": [
      "\u001b[1;31m---------------------------------------------------------------------------\u001b[0m",
      "\u001b[1;31mValueError\u001b[0m                                Traceback (most recent call last)",
      "\u001b[1;32m~\\AppData\\Local\\Temp\\ipykernel_10412\\3161136810.py\u001b[0m in \u001b[0;36m<module>\u001b[1;34m\u001b[0m\n\u001b[0;32m     17\u001b[0m \u001b[1;33m\u001b[0m\u001b[0m\n\u001b[0;32m     18\u001b[0m \u001b[1;32mfor\u001b[0m \u001b[0msymbol\u001b[0m \u001b[1;32min\u001b[0m \u001b[0msymbol\u001b[0m\u001b[1;33m:\u001b[0m\u001b[1;33m\u001b[0m\u001b[1;33m\u001b[0m\u001b[0m\n\u001b[1;32m---> 19\u001b[1;33m     \u001b[0mdata\u001b[0m\u001b[1;33m,\u001b[0m \u001b[0mmeta_data\u001b[0m \u001b[1;33m=\u001b[0m \u001b[0mts\u001b[0m\u001b[1;33m.\u001b[0m\u001b[0mget_daily\u001b[0m\u001b[1;33m(\u001b[0m\u001b[0msymbol\u001b[0m\u001b[1;33m=\u001b[0m\u001b[0msymbol\u001b[0m\u001b[1;33m,\u001b[0m \u001b[0moutputsize\u001b[0m\u001b[1;33m=\u001b[0m\u001b[1;34m'full'\u001b[0m\u001b[1;33m)\u001b[0m\u001b[1;33m\u001b[0m\u001b[1;33m\u001b[0m\u001b[0m\n\u001b[0m\u001b[0;32m     20\u001b[0m     \u001b[0mdata\u001b[0m \u001b[1;33m=\u001b[0m \u001b[0mdata\u001b[0m\u001b[1;33m.\u001b[0m\u001b[0mloc\u001b[0m\u001b[1;33m[\u001b[0m\u001b[0mstart_date\u001b[0m\u001b[1;33m:\u001b[0m\u001b[0mend_date\u001b[0m\u001b[1;33m]\u001b[0m\u001b[1;33m\u001b[0m\u001b[1;33m\u001b[0m\u001b[0m\n\u001b[0;32m     21\u001b[0m     \u001b[0mdata\u001b[0m\u001b[1;33m[\u001b[0m\u001b[1;34m'symbol'\u001b[0m\u001b[1;33m]\u001b[0m \u001b[1;33m=\u001b[0m \u001b[0msymbol\u001b[0m\u001b[1;33m\u001b[0m\u001b[1;33m\u001b[0m\u001b[0m\n",
      "\u001b[1;32m~\\anaconda3\\lib\\site-packages\\alpha_vantage\\alphavantage.py\u001b[0m in \u001b[0;36m_format_wrapper\u001b[1;34m(self, *args, **kwargs)\u001b[0m\n\u001b[0;32m    216\u001b[0m         \u001b[1;33m@\u001b[0m\u001b[0mwraps\u001b[0m\u001b[1;33m(\u001b[0m\u001b[0mfunc\u001b[0m\u001b[1;33m)\u001b[0m\u001b[1;33m\u001b[0m\u001b[1;33m\u001b[0m\u001b[0m\n\u001b[0;32m    217\u001b[0m         \u001b[1;32mdef\u001b[0m \u001b[0m_format_wrapper\u001b[0m\u001b[1;33m(\u001b[0m\u001b[0mself\u001b[0m\u001b[1;33m,\u001b[0m \u001b[1;33m*\u001b[0m\u001b[0margs\u001b[0m\u001b[1;33m,\u001b[0m \u001b[1;33m**\u001b[0m\u001b[0mkwargs\u001b[0m\u001b[1;33m)\u001b[0m\u001b[1;33m:\u001b[0m\u001b[1;33m\u001b[0m\u001b[1;33m\u001b[0m\u001b[0m\n\u001b[1;32m--> 218\u001b[1;33m             call_response, data_key, meta_data_key = func(\n\u001b[0m\u001b[0;32m    219\u001b[0m                 self, *args, **kwargs)\n\u001b[0;32m    220\u001b[0m             \u001b[1;32mif\u001b[0m \u001b[1;34m'json'\u001b[0m \u001b[1;32min\u001b[0m \u001b[0mself\u001b[0m\u001b[1;33m.\u001b[0m\u001b[0moutput_format\u001b[0m\u001b[1;33m.\u001b[0m\u001b[0mlower\u001b[0m\u001b[1;33m(\u001b[0m\u001b[1;33m)\u001b[0m \u001b[1;32mor\u001b[0m \u001b[1;34m'pandas'\u001b[0m\u001b[0;31m \u001b[0m\u001b[0;31m\\\u001b[0m\u001b[1;33m\u001b[0m\u001b[1;33m\u001b[0m\u001b[0m\n",
      "\u001b[1;32m~\\anaconda3\\lib\\site-packages\\alpha_vantage\\alphavantage.py\u001b[0m in \u001b[0;36m_call_wrapper\u001b[1;34m(self, *args, **kwargs)\u001b[0m\n\u001b[0;32m    158\u001b[0m             \u001b[1;32melse\u001b[0m\u001b[1;33m:\u001b[0m\u001b[1;33m\u001b[0m\u001b[1;33m\u001b[0m\u001b[0m\n\u001b[0;32m    159\u001b[0m                 \u001b[0murl\u001b[0m \u001b[1;33m=\u001b[0m \u001b[1;34m'{}{}'\u001b[0m\u001b[1;33m.\u001b[0m\u001b[0mformat\u001b[0m\u001b[1;33m(\u001b[0m\u001b[0murl\u001b[0m\u001b[1;33m,\u001b[0m \u001b[0mapikey_parameter\u001b[0m\u001b[1;33m)\u001b[0m\u001b[1;33m\u001b[0m\u001b[1;33m\u001b[0m\u001b[0m\n\u001b[1;32m--> 160\u001b[1;33m             \u001b[1;32mreturn\u001b[0m \u001b[0mself\u001b[0m\u001b[1;33m.\u001b[0m\u001b[0m_handle_api_call\u001b[0m\u001b[1;33m(\u001b[0m\u001b[0murl\u001b[0m\u001b[1;33m)\u001b[0m\u001b[1;33m,\u001b[0m \u001b[0mdata_key\u001b[0m\u001b[1;33m,\u001b[0m \u001b[0mmeta_data_key\u001b[0m\u001b[1;33m\u001b[0m\u001b[1;33m\u001b[0m\u001b[0m\n\u001b[0m\u001b[0;32m    161\u001b[0m         \u001b[1;32mreturn\u001b[0m \u001b[0m_call_wrapper\u001b[0m\u001b[1;33m\u001b[0m\u001b[1;33m\u001b[0m\u001b[0m\n\u001b[0;32m    162\u001b[0m \u001b[1;33m\u001b[0m\u001b[0m\n",
      "\u001b[1;32m~\\anaconda3\\lib\\site-packages\\alpha_vantage\\alphavantage.py\u001b[0m in \u001b[0;36m_handle_api_call\u001b[1;34m(self, url)\u001b[0m\n\u001b[0;32m    359\u001b[0m                 \u001b[1;32mraise\u001b[0m \u001b[0mValueError\u001b[0m\u001b[1;33m(\u001b[0m\u001b[0mjson_response\u001b[0m\u001b[1;33m[\u001b[0m\u001b[1;34m\"Error Message\"\u001b[0m\u001b[1;33m]\u001b[0m\u001b[1;33m)\u001b[0m\u001b[1;33m\u001b[0m\u001b[1;33m\u001b[0m\u001b[0m\n\u001b[0;32m    360\u001b[0m             \u001b[1;32melif\u001b[0m \u001b[1;34m\"Information\"\u001b[0m \u001b[1;32min\u001b[0m \u001b[0mjson_response\u001b[0m \u001b[1;32mand\u001b[0m \u001b[0mself\u001b[0m\u001b[1;33m.\u001b[0m\u001b[0mtreat_info_as_error\u001b[0m\u001b[1;33m:\u001b[0m\u001b[1;33m\u001b[0m\u001b[1;33m\u001b[0m\u001b[0m\n\u001b[1;32m--> 361\u001b[1;33m                 \u001b[1;32mraise\u001b[0m \u001b[0mValueError\u001b[0m\u001b[1;33m(\u001b[0m\u001b[0mjson_response\u001b[0m\u001b[1;33m[\u001b[0m\u001b[1;34m\"Information\"\u001b[0m\u001b[1;33m]\u001b[0m\u001b[1;33m)\u001b[0m\u001b[1;33m\u001b[0m\u001b[1;33m\u001b[0m\u001b[0m\n\u001b[0m\u001b[0;32m    362\u001b[0m             \u001b[1;32melif\u001b[0m \u001b[1;34m\"Note\"\u001b[0m \u001b[1;32min\u001b[0m \u001b[0mjson_response\u001b[0m \u001b[1;32mand\u001b[0m \u001b[0mself\u001b[0m\u001b[1;33m.\u001b[0m\u001b[0mtreat_info_as_error\u001b[0m\u001b[1;33m:\u001b[0m\u001b[1;33m\u001b[0m\u001b[1;33m\u001b[0m\u001b[0m\n\u001b[0;32m    363\u001b[0m                 \u001b[1;32mraise\u001b[0m \u001b[0mValueError\u001b[0m\u001b[1;33m(\u001b[0m\u001b[0mjson_response\u001b[0m\u001b[1;33m[\u001b[0m\u001b[1;34m\"Note\"\u001b[0m\u001b[1;33m]\u001b[0m\u001b[1;33m)\u001b[0m\u001b[1;33m\u001b[0m\u001b[1;33m\u001b[0m\u001b[0m\n",
      "\u001b[1;31mValueError\u001b[0m: Thank you for using Alpha Vantage! This is a premium endpoint. You may subscribe to any of the premium plans at https://www.alphavantage.co/premium/ to instantly unlock all premium endpoints"
     ]
    }
   ],
   "source": [
    "from alpha_vantage.timeseries import TimeSeries\n",
    "import pandas as pd\n",
    "import requests\n",
    "\n",
    "symbol = 'AAPL'\n",
    "\n",
    "start_date = '2022-01-01'\n",
    "end_date = '2022-01-31'\n",
    "\n",
    "ts = TimeSeries(key='588A7VF9GZ37XYPY', output_format='pandas')\n",
    "\n",
    "url = f'https://www.alphavantage.co/query?function=TIME_SERIES_DAILY_ADJUSTED&symbol={symbol}&outputsize=full&apikey=demo'\n",
    "\n",
    "\n",
    "for symbol in symbol:\n",
    "    data, meta_data = ts.get_daily(symbol=symbol, outputsize='full')\n",
    "    data = data.loc[start_date:end_date]\n",
    "    data['symbol'] = symbol\n",
    "    df = df.append(data)\n",
    "\n",
    "response = requests.get(url)\n",
    "data = data.loc[start_date:end_date]\n",
    "df = pd.DataFrame(data).transpose()\n",
    "\n",
    "\n",
    "df = df.rename(columns={\n",
    "    '1. open': 'Open',\n",
    "    '2. high': 'High',\n",
    "    '3. low': 'Low',\n",
    "    '4. close': 'Close',\n",
    "    '5. adjusted close': 'Adj Close',\n",
    "    '6. volume': 'Volume',\n",
    "    '7. dividend amount': 'Dividend',\n",
    "    '8. split coefficient': 'Split'\n",
    "})\n",
    "\n",
    "df = df.astype({\n",
    "    'Open': float,\n",
    "    'High': float,\n",
    "    'Low': float,\n",
    "    'Close': float,\n",
    "    'Adj Close': float,\n",
    "    'Volume': int,\n",
    "    'Dividend': float,\n",
    "    'Split': float\n",
    "})\n",
    "\n",
    "df = df.sort_index()\n",
    "\n",
    "df = df.loc[start_date:end_date]\n",
    "\n",
    "print(df.head())\n"
   ]
  },
  {
   "cell_type": "code",
   "execution_count": 15,
   "id": "3edb2f14-f28b-4fdd-b053-03ea4cecce72",
   "metadata": {},
   "outputs": [
    {
     "name": "stdout",
     "output_type": "stream",
     "text": [
      "Empty DataFrame\n",
      "Columns: [Open, High, Low, Close, Adj Close, Volume, Dividend, Split]\n",
      "Index: []\n"
     ]
    }
   ],
   "source": [
    "import pandas as pd\n",
    "import requests\n",
    "\n",
    "symbol = 'AAPL'\n",
    "\n",
    "start_date = '2022-01-01'\n",
    "end_date = '2022-03-31'\n",
    "\n",
    "url = f'https://www.alphavantage.co/query?function=TIME_SERIES_DAILY_ADJUSTED&symbol={symbol}&outputsize=compact&apikey=588A7VF9GZ37XYPY'\n",
    "response = requests.get(url)\n",
    "\n",
    "if 'Error Message' in response.json():\n",
    "    print(response.json()['Error Message'])\n",
    "else:\n",
    "    data = response.json()['Time Series (Daily)']\n",
    "    df = pd.DataFrame(data).transpose()\n",
    "\n",
    "    \n",
    "    df = df.rename(columns={\n",
    "        '1. open': 'Open',\n",
    "        '2. high': 'High',\n",
    "        '3. low': 'Low',\n",
    "        '4. close': 'Close',\n",
    "        '5. adjusted close': 'Adj Close',\n",
    "        '6. volume': 'Volume',\n",
    "        '7. dividend amount': 'Dividend',\n",
    "        '8. split coefficient': 'Split'\n",
    "    })\n",
    "\n",
    "   \n",
    "    df = df.astype({\n",
    "        'Open': float,\n",
    "        'High': float,\n",
    "        'Low': float,\n",
    "        'Close': float,\n",
    "        'Adj Close': float,\n",
    "        'Volume': int,\n",
    "        'Dividend': float,\n",
    "        'Split': float\n",
    "    })\n",
    "\n",
    "\n",
    "    df = df.sort_index()\n",
    "\n",
    "    df = df.loc[start_date:end_date]\n",
    "\n",
    "    print(df.head())\n"
   ]
  },
  {
   "cell_type": "markdown",
   "id": "59425c1f-10bf-4f23-8d10-75bb60f18a3a",
   "metadata": {},
   "source": [
    "#### 4. Construya un modelo predictivo con un horizonte de tamaño n, que usted define de acuerdo con la longitud del periodo de cada observación. Mínimo 5 observaciones adelante.mpetodo\n"
   ]
  },
  {
   "cell_type": "code",
   "execution_count": 17,
   "id": "7a24514a-f188-4abb-b3f0-4ce939156d1e",
   "metadata": {},
   "outputs": [
    {
     "name": "stdout",
     "output_type": "stream",
     "text": [
      "Empty DataFrame\n",
      "Columns: [Open, High, Low, Close, Adj Close, Volume, Dividend, Split, MA_5, Prediction]\n",
      "Index: []\n"
     ]
    }
   ],
   "source": [
    "# Calcula la media móvil de 5 días\n",
    "df['MA_5'] = df['Close'].rolling(window=5).mean()\n",
    "\n",
    "# Crea una columna de predicción con el valor de cierre del día siguiente\n",
    "df['Prediction'] = df['Close'].shift(-1)\n",
    "\n",
    "# Muestra los últimos 10 registros del DataFrame resultante\n",
    "print(df.tail(10))\n",
    "\n"
   ]
  },
  {
   "cell_type": "markdown",
   "id": "ff20becd-f5fb-4793-a90f-b7fa17027acf",
   "metadata": {},
   "source": [
    "#### 5. Calcule franja de confianza o credibilidad. Para ellos investigue regresión cuantil, boostrap u otro método.\n"
   ]
  },
  {
   "cell_type": "code",
   "execution_count": 25,
   "id": "d9b00503-9863-4108-b010-41f46af65b48",
   "metadata": {},
   "outputs": [
    {
     "ename": "NameError",
     "evalue": "name 'res' is not defined",
     "output_type": "error",
     "traceback": [
      "\u001b[1;31m---------------------------------------------------------------------------\u001b[0m",
      "\u001b[1;31mNameError\u001b[0m                                 Traceback (most recent call last)",
      "\u001b[1;32m~\\AppData\\Local\\Temp\\ipykernel_10412\\58589465.py\u001b[0m in \u001b[0;36m<module>\u001b[1;34m\u001b[0m\n\u001b[0;32m      3\u001b[0m \u001b[1;33m\u001b[0m\u001b[0m\n\u001b[0;32m      4\u001b[0m \u001b[1;31m# Calculamos la predicción y el intervalo de confianza del 95%\u001b[0m\u001b[1;33m\u001b[0m\u001b[1;33m\u001b[0m\u001b[0m\n\u001b[1;32m----> 5\u001b[1;33m \u001b[0my_pred\u001b[0m \u001b[1;33m=\u001b[0m \u001b[0mres\u001b[0m\u001b[1;33m.\u001b[0m\u001b[0mpredict\u001b[0m\u001b[1;33m(\u001b[0m\u001b[0mpd\u001b[0m\u001b[1;33m.\u001b[0m\u001b[0mDataFrame\u001b[0m\u001b[1;33m(\u001b[0m\u001b[1;33m{\u001b[0m\u001b[1;34m'x'\u001b[0m\u001b[1;33m:\u001b[0m \u001b[0mx_pred\u001b[0m\u001b[1;33m}\u001b[0m\u001b[1;33m)\u001b[0m\u001b[1;33m)\u001b[0m\u001b[1;33m\u001b[0m\u001b[1;33m\u001b[0m\u001b[0m\n\u001b[0m\u001b[0;32m      6\u001b[0m \u001b[0my_lower\u001b[0m \u001b[1;33m=\u001b[0m \u001b[0mres\u001b[0m\u001b[1;33m.\u001b[0m\u001b[0mpredict\u001b[0m\u001b[1;33m(\u001b[0m\u001b[0mpd\u001b[0m\u001b[1;33m.\u001b[0m\u001b[0mDataFrame\u001b[0m\u001b[1;33m(\u001b[0m\u001b[1;33m{\u001b[0m\u001b[1;34m'x'\u001b[0m\u001b[1;33m:\u001b[0m \u001b[0mx_pred\u001b[0m\u001b[1;33m}\u001b[0m\u001b[1;33m)\u001b[0m\u001b[1;33m,\u001b[0m \u001b[0mexog\u001b[0m\u001b[1;33m=\u001b[0m\u001b[1;33m{\u001b[0m\u001b[1;34m'x'\u001b[0m\u001b[1;33m:\u001b[0m \u001b[0mx_pred\u001b[0m\u001b[1;33m}\u001b[0m\u001b[1;33m,\u001b[0m \u001b[0mquantile\u001b[0m\u001b[1;33m=\u001b[0m\u001b[1;36m0.025\u001b[0m\u001b[1;33m)\u001b[0m\u001b[1;33m\u001b[0m\u001b[1;33m\u001b[0m\u001b[0m\n\u001b[0;32m      7\u001b[0m \u001b[0my_upper\u001b[0m \u001b[1;33m=\u001b[0m \u001b[0mres\u001b[0m\u001b[1;33m.\u001b[0m\u001b[0mpredict\u001b[0m\u001b[1;33m(\u001b[0m\u001b[0mpd\u001b[0m\u001b[1;33m.\u001b[0m\u001b[0mDataFrame\u001b[0m\u001b[1;33m(\u001b[0m\u001b[1;33m{\u001b[0m\u001b[1;34m'x'\u001b[0m\u001b[1;33m:\u001b[0m \u001b[0mx_pred\u001b[0m\u001b[1;33m}\u001b[0m\u001b[1;33m)\u001b[0m\u001b[1;33m,\u001b[0m \u001b[0mexog\u001b[0m\u001b[1;33m=\u001b[0m\u001b[1;33m{\u001b[0m\u001b[1;34m'x'\u001b[0m\u001b[1;33m:\u001b[0m \u001b[0mx_pred\u001b[0m\u001b[1;33m}\u001b[0m\u001b[1;33m,\u001b[0m \u001b[0mquantile\u001b[0m\u001b[1;33m=\u001b[0m\u001b[1;36m0.975\u001b[0m\u001b[1;33m)\u001b[0m\u001b[1;33m\u001b[0m\u001b[1;33m\u001b[0m\u001b[0m\n",
      "\u001b[1;31mNameError\u001b[0m: name 'res' is not defined"
     ]
    }
   ],
   "source": [
    "# Creamos una lista con los valores a predecir\n",
    "x_pred = list(range(len(df), len(df) + 5))\n",
    "\n",
    "# Calculamos la predicción y el intervalo de confianza del 95%\n",
    "y_pred = res.predict(pd.DataFrame({'x': x_pred}))\n",
    "y_lower = res.predict(pd.DataFrame({'x': x_pred}), exog={'x': x_pred}, quantile=0.025)\n",
    "y_upper = res.predict(pd.DataFrame({'x': x_pred}), exog={'x': x_pred}, quantile=0.975)\n",
    "\n",
    "# Imprimimos la predicción y el intervalo de confianza\n",
    "print(f'Predicción: {y_pred}')\n",
    "print(f'Intervalo de confianza del 95%: ({y_lower}, {y_upper})')\n",
    "\n"
   ]
  },
  {
   "cell_type": "code",
   "execution_count": 24,
   "id": "66e8945d-6b0c-4833-99fb-dcd7d5902a88",
   "metadata": {},
   "outputs": [
    {
     "ename": "TypeError",
     "evalue": "'numpy.ndarray' object is not callable",
     "output_type": "error",
     "traceback": [
      "\u001b[1;31m---------------------------------------------------------------------------\u001b[0m",
      "\u001b[1;31mTypeError\u001b[0m                                 Traceback (most recent call last)",
      "\u001b[1;32m~\\AppData\\Local\\Temp\\ipykernel_10412\\3366413020.py\u001b[0m in \u001b[0;36m<module>\u001b[1;34m\u001b[0m\n\u001b[0;32m     12\u001b[0m \u001b[0murl\u001b[0m \u001b[1;33m=\u001b[0m \u001b[1;34mf'https://www.alphavantage.co/query?function=TIME_SERIES_DAILY_ADJUSTED&symbol={symbol}&outputsize=compact&apikey=588A7VF9GZ37XYPY'\u001b[0m\u001b[1;33m\u001b[0m\u001b[1;33m\u001b[0m\u001b[0m\n\u001b[0;32m     13\u001b[0m \u001b[0mdf\u001b[0m \u001b[1;33m=\u001b[0m \u001b[0mpd\u001b[0m\u001b[1;33m.\u001b[0m\u001b[0mread_json\u001b[0m\u001b[1;33m(\u001b[0m\u001b[0murl\u001b[0m\u001b[1;33m)\u001b[0m\u001b[1;33m[\u001b[0m\u001b[1;34m'Time Series (Daily)'\u001b[0m\u001b[1;33m]\u001b[0m\u001b[1;33m\u001b[0m\u001b[1;33m\u001b[0m\u001b[0m\n\u001b[1;32m---> 14\u001b[1;33m \u001b[0mdf\u001b[0m \u001b[1;33m=\u001b[0m \u001b[0mpd\u001b[0m\u001b[1;33m.\u001b[0m\u001b[0mDataFrame\u001b[0m\u001b[1;33m.\u001b[0m\u001b[0mfrom_dict\u001b[0m\u001b[1;33m(\u001b[0m\u001b[0mdf\u001b[0m\u001b[1;33m,\u001b[0m \u001b[0morient\u001b[0m\u001b[1;33m=\u001b[0m\u001b[1;34m'index'\u001b[0m\u001b[1;33m)\u001b[0m\u001b[1;33m\u001b[0m\u001b[1;33m\u001b[0m\u001b[0m\n\u001b[0m\u001b[0;32m     15\u001b[0m \u001b[0mdf\u001b[0m \u001b[1;33m=\u001b[0m \u001b[0mdf\u001b[0m\u001b[1;33m.\u001b[0m\u001b[0miloc\u001b[0m\u001b[1;33m[\u001b[0m\u001b[1;33m:\u001b[0m\u001b[1;33m:\u001b[0m\u001b[1;33m-\u001b[0m\u001b[1;36m1\u001b[0m\u001b[1;33m]\u001b[0m\u001b[1;33m\u001b[0m\u001b[1;33m\u001b[0m\u001b[0m\n\u001b[0;32m     16\u001b[0m \u001b[0mdf\u001b[0m\u001b[1;33m.\u001b[0m\u001b[0mindex\u001b[0m \u001b[1;33m=\u001b[0m \u001b[0mpd\u001b[0m\u001b[1;33m.\u001b[0m\u001b[0mto_datetime\u001b[0m\u001b[1;33m(\u001b[0m\u001b[0mdf\u001b[0m\u001b[1;33m.\u001b[0m\u001b[0mindex\u001b[0m\u001b[1;33m)\u001b[0m\u001b[1;33m\u001b[0m\u001b[1;33m\u001b[0m\u001b[0m\n",
      "\u001b[1;32m~\\anaconda3\\lib\\site-packages\\pandas\\core\\frame.py\u001b[0m in \u001b[0;36mfrom_dict\u001b[1;34m(cls, data, orient, dtype, columns)\u001b[0m\n\u001b[0;32m   1664\u001b[0m             \u001b[1;32mif\u001b[0m \u001b[0mlen\u001b[0m\u001b[1;33m(\u001b[0m\u001b[0mdata\u001b[0m\u001b[1;33m)\u001b[0m \u001b[1;33m>\u001b[0m \u001b[1;36m0\u001b[0m\u001b[1;33m:\u001b[0m\u001b[1;33m\u001b[0m\u001b[1;33m\u001b[0m\u001b[0m\n\u001b[0;32m   1665\u001b[0m                 \u001b[1;31m# TODO speed up Series case\u001b[0m\u001b[1;33m\u001b[0m\u001b[1;33m\u001b[0m\u001b[0m\n\u001b[1;32m-> 1666\u001b[1;33m                 \u001b[1;32mif\u001b[0m \u001b[0misinstance\u001b[0m\u001b[1;33m(\u001b[0m\u001b[0mlist\u001b[0m\u001b[1;33m(\u001b[0m\u001b[0mdata\u001b[0m\u001b[1;33m.\u001b[0m\u001b[0mvalues\u001b[0m\u001b[1;33m(\u001b[0m\u001b[1;33m)\u001b[0m\u001b[1;33m)\u001b[0m\u001b[1;33m[\u001b[0m\u001b[1;36m0\u001b[0m\u001b[1;33m]\u001b[0m\u001b[1;33m,\u001b[0m \u001b[1;33m(\u001b[0m\u001b[0mSeries\u001b[0m\u001b[1;33m,\u001b[0m \u001b[0mdict\u001b[0m\u001b[1;33m)\u001b[0m\u001b[1;33m)\u001b[0m\u001b[1;33m:\u001b[0m\u001b[1;33m\u001b[0m\u001b[1;33m\u001b[0m\u001b[0m\n\u001b[0m\u001b[0;32m   1667\u001b[0m                     \u001b[0mdata\u001b[0m \u001b[1;33m=\u001b[0m \u001b[0m_from_nested_dict\u001b[0m\u001b[1;33m(\u001b[0m\u001b[0mdata\u001b[0m\u001b[1;33m)\u001b[0m\u001b[1;33m\u001b[0m\u001b[1;33m\u001b[0m\u001b[0m\n\u001b[0;32m   1668\u001b[0m                 \u001b[1;32melse\u001b[0m\u001b[1;33m:\u001b[0m\u001b[1;33m\u001b[0m\u001b[1;33m\u001b[0m\u001b[0m\n",
      "\u001b[1;31mTypeError\u001b[0m: 'numpy.ndarray' object is not callable"
     ]
    }
   ],
   "source": [
    "import pandas as pd\n",
    "import statsmodels.formula.api as smf\n",
    "\n",
    "# Define el símbolo de la empresa para la que deseas descargar datos\n",
    "symbol = 'AAPL'\n",
    "\n",
    "# Define el rango de fechas que deseas descargar\n",
    "start_date = '2022-01-01'\n",
    "end_date = '2022-03-31'\n",
    "\n",
    "# Descarga los datos de la API de Alpha Vantage y los convierte en un DataFrame de pandas\n",
    "url = f'https://www.alphavantage.co/query?function=TIME_SERIES_DAILY_ADJUSTED&symbol={symbol}&outputsize=compact&apikey=588A7VF9GZ37XYPY'\n",
    "df = pd.read_json(url)['Time Series (Daily)']\n",
    "df = pd.DataFrame.from_dict(df, orient='index')\n",
    "df = df.iloc[::-1]\n",
    "df.index = pd.to_datetime(df.index)\n",
    "\n",
    "# Limita los datos descargados al rango de fechas deseado\n",
    "df = df.loc[start_date:end_date]\n",
    "\n",
    "# Definimos la variable dependiente y la variable independiente\n",
    "df['date'] = df.index\n",
    "df['y'] = df['Close']\n",
    "df['x'] = range(len(df))\n",
    "\n",
    "# Ajustamos la regresión cuantílica\n",
    "model = smf.quantreg('y ~ x', df)\n",
    "quantiles = [0.025, 0.975]\n",
    "res = model.fit(q=quantiles)\n",
    "\n",
    "# Calculamos la predicción y el intervalo de confianza del 95%\n",
    "x_pred = range(len(df), len(df) + 5)\n",
    "y_pred = res.predict(pd.DataFrame({'x': x_pred}))\n",
    "y_lower = res.get_prediction(pd.DataFrame({'x': x_pred})).conf_int(alpha=0.05)[0]\n",
    "y_upper = res.get_prediction(pd.DataFrame({'x': x_pred})).conf_int(alpha=0.05)[1]\n",
    "\n",
    "# Imprimimos la predicción y el intervalo de confianza\n",
    "print(f'Predicción: {list(y_pred)}')\n",
    "print(f'Intervalo de confianza del 95%: ({list(y_lower)[-1]}, {list(y_upper)[-1]})')\n"
   ]
  },
  {
   "cell_type": "markdown",
   "id": "2c6d3a12-514a-451d-bc98-7a2ae6a8c013",
   "metadata": {},
   "source": [
    "#### 6. Opcionalmente use el modelo TFT u otro similar con la librería Pytorch-forecasting, que le permite calcular las franjas directamente.\n"
   ]
  },
  {
   "cell_type": "code",
   "execution_count": 26,
   "id": "f25e14e0-5b9d-46f2-a354-bbcd1a904575",
   "metadata": {},
   "outputs": [
    {
     "name": "stdout",
     "output_type": "stream",
     "text": [
      "Collecting pytorch-forecasting\n",
      "  Downloading pytorch_forecasting-0.10.3-py3-none-any.whl (141 kB)\n",
      "     ------------------------------------ 141.4/141.4 kB 936.6 kB/s eta 0:00:00\n",
      "Collecting torch<2.0,>=1.7\n",
      "  Downloading torch-1.13.1-cp39-cp39-win_amd64.whl (162.5 MB)\n",
      "     -------------------------------------- 162.5/162.5 MB 1.2 MB/s eta 0:00:00\n",
      "Collecting pytorch-lightning<2.0.0,>=1.2.4\n",
      "  Downloading pytorch_lightning-1.9.4-py3-none-any.whl (827 kB)\n",
      "     -------------------------------------- 827.8/827.8 kB 4.0 MB/s eta 0:00:00\n",
      "Requirement already satisfied: matplotlib in c:\\users\\lorenzo\\anaconda3\\lib\\site-packages (from pytorch-forecasting) (3.5.2)\n",
      "Requirement already satisfied: scikit-learn<1.2,>=0.24 in c:\\users\\lorenzo\\anaconda3\\lib\\site-packages (from pytorch-forecasting) (1.0.2)\n",
      "Collecting optuna<3.0.0,>=2.3.0\n",
      "  Downloading optuna-2.10.1-py3-none-any.whl (308 kB)\n",
      "     -------------------------------------- 308.2/308.2 kB 1.1 MB/s eta 0:00:00\n",
      "Requirement already satisfied: pandas<2.0.0,>=1.3.0 in c:\\users\\lorenzo\\anaconda3\\lib\\site-packages (from pytorch-forecasting) (1.4.4)\n",
      "Requirement already satisfied: statsmodels in c:\\users\\lorenzo\\anaconda3\\lib\\site-packages (from pytorch-forecasting) (0.13.2)\n",
      "Requirement already satisfied: scipy<2.0,>=1.8 in c:\\users\\lorenzo\\anaconda3\\lib\\site-packages (from pytorch-forecasting) (1.9.1)\n",
      "Requirement already satisfied: packaging>=20.0 in c:\\users\\lorenzo\\anaconda3\\lib\\site-packages (from optuna<3.0.0,>=2.3.0->pytorch-forecasting) (21.3)\n",
      "Collecting cliff\n",
      "  Downloading cliff-4.2.0-py3-none-any.whl (81 kB)\n",
      "     ---------------------------------------- 81.0/81.0 kB 1.1 MB/s eta 0:00:00\n",
      "Requirement already satisfied: sqlalchemy>=1.1.0 in c:\\users\\lorenzo\\anaconda3\\lib\\site-packages (from optuna<3.0.0,>=2.3.0->pytorch-forecasting) (1.4.39)\n",
      "Requirement already satisfied: tqdm in c:\\users\\lorenzo\\anaconda3\\lib\\site-packages (from optuna<3.0.0,>=2.3.0->pytorch-forecasting) (4.64.1)\n",
      "Requirement already satisfied: numpy in c:\\users\\lorenzo\\anaconda3\\lib\\site-packages (from optuna<3.0.0,>=2.3.0->pytorch-forecasting) (1.21.5)\n",
      "Requirement already satisfied: PyYAML in c:\\users\\lorenzo\\anaconda3\\lib\\site-packages (from optuna<3.0.0,>=2.3.0->pytorch-forecasting) (6.0)\n",
      "Collecting alembic\n",
      "  Downloading alembic-1.10.2-py3-none-any.whl (212 kB)\n",
      "     ------------------------------------ 212.2/212.2 kB 922.2 kB/s eta 0:00:00\n",
      "Collecting colorlog\n",
      "  Downloading colorlog-6.7.0-py2.py3-none-any.whl (11 kB)\n",
      "Collecting cmaes>=0.8.2\n",
      "  Downloading cmaes-0.9.1-py3-none-any.whl (21 kB)\n",
      "Requirement already satisfied: python-dateutil>=2.8.1 in c:\\users\\lorenzo\\anaconda3\\lib\\site-packages (from pandas<2.0.0,>=1.3.0->pytorch-forecasting) (2.8.2)\n",
      "Requirement already satisfied: pytz>=2020.1 in c:\\users\\lorenzo\\anaconda3\\lib\\site-packages (from pandas<2.0.0,>=1.3.0->pytorch-forecasting) (2022.1)\n",
      "Requirement already satisfied: typing-extensions>=4.0.0 in c:\\users\\lorenzo\\anaconda3\\lib\\site-packages (from pytorch-lightning<2.0.0,>=1.2.4->pytorch-forecasting) (4.3.0)\n",
      "Collecting torchmetrics>=0.7.0\n",
      "  Downloading torchmetrics-0.11.4-py3-none-any.whl (519 kB)\n",
      "     -------------------------------------- 519.2/519.2 kB 8.1 MB/s eta 0:00:00\n",
      "Requirement already satisfied: fsspec[http]>2021.06.0 in c:\\users\\lorenzo\\anaconda3\\lib\\site-packages (from pytorch-lightning<2.0.0,>=1.2.4->pytorch-forecasting) (2022.7.1)\n",
      "Collecting lightning-utilities>=0.6.0.post0\n",
      "  Downloading lightning_utilities-0.8.0-py3-none-any.whl (20 kB)\n",
      "Requirement already satisfied: joblib>=0.11 in c:\\users\\lorenzo\\anaconda3\\lib\\site-packages (from scikit-learn<1.2,>=0.24->pytorch-forecasting) (1.1.0)\n",
      "Requirement already satisfied: threadpoolctl>=2.0.0 in c:\\users\\lorenzo\\anaconda3\\lib\\site-packages (from scikit-learn<1.2,>=0.24->pytorch-forecasting) (2.2.0)\n",
      "Requirement already satisfied: fonttools>=4.22.0 in c:\\users\\lorenzo\\anaconda3\\lib\\site-packages (from matplotlib->pytorch-forecasting) (4.25.0)\n",
      "Requirement already satisfied: cycler>=0.10 in c:\\users\\lorenzo\\anaconda3\\lib\\site-packages (from matplotlib->pytorch-forecasting) (0.11.0)\n",
      "Requirement already satisfied: pyparsing>=2.2.1 in c:\\users\\lorenzo\\anaconda3\\lib\\site-packages (from matplotlib->pytorch-forecasting) (3.0.9)\n",
      "Requirement already satisfied: pillow>=6.2.0 in c:\\users\\lorenzo\\anaconda3\\lib\\site-packages (from matplotlib->pytorch-forecasting) (9.2.0)\n",
      "Requirement already satisfied: kiwisolver>=1.0.1 in c:\\users\\lorenzo\\anaconda3\\lib\\site-packages (from matplotlib->pytorch-forecasting) (1.4.2)\n",
      "Requirement already satisfied: patsy>=0.5.2 in c:\\users\\lorenzo\\anaconda3\\lib\\site-packages (from statsmodels->pytorch-forecasting) (0.5.2)\n",
      "Requirement already satisfied: aiohttp in c:\\users\\lorenzo\\anaconda3\\lib\\site-packages (from fsspec[http]>2021.06.0->pytorch-lightning<2.0.0,>=1.2.4->pytorch-forecasting) (3.8.4)\n",
      "Requirement already satisfied: requests in c:\\users\\lorenzo\\anaconda3\\lib\\site-packages (from fsspec[http]>2021.06.0->pytorch-lightning<2.0.0,>=1.2.4->pytorch-forecasting) (2.28.1)\n",
      "Requirement already satisfied: six in c:\\users\\lorenzo\\anaconda3\\lib\\site-packages (from patsy>=0.5.2->statsmodels->pytorch-forecasting) (1.16.0)\n",
      "Requirement already satisfied: greenlet!=0.4.17 in c:\\users\\lorenzo\\anaconda3\\lib\\site-packages (from sqlalchemy>=1.1.0->optuna<3.0.0,>=2.3.0->pytorch-forecasting) (1.1.1)\n",
      "Requirement already satisfied: colorama in c:\\users\\lorenzo\\anaconda3\\lib\\site-packages (from tqdm->optuna<3.0.0,>=2.3.0->pytorch-forecasting) (0.4.5)\n",
      "Collecting Mako\n",
      "  Downloading Mako-1.2.4-py3-none-any.whl (78 kB)\n",
      "     ---------------------------------------- 78.7/78.7 kB 2.2 MB/s eta 0:00:00\n",
      "Collecting stevedore>=2.0.1\n",
      "  Downloading stevedore-5.0.0-py3-none-any.whl (49 kB)\n",
      "     ---------------------------------------- 49.6/49.6 kB 1.3 MB/s eta 0:00:00\n",
      "Collecting PrettyTable>=0.7.2\n",
      "  Downloading prettytable-3.6.0-py3-none-any.whl (27 kB)\n",
      "Collecting autopage>=0.4.0\n",
      "  Downloading autopage-0.5.1-py3-none-any.whl (29 kB)\n",
      "Collecting cmd2>=1.0.0\n",
      "  Downloading cmd2-2.4.3-py3-none-any.whl (147 kB)\n",
      "     -------------------------------------- 147.2/147.2 kB 2.9 MB/s eta 0:00:00\n",
      "Requirement already satisfied: importlib-metadata>=4.4 in c:\\users\\lorenzo\\anaconda3\\lib\\site-packages (from cliff->optuna<3.0.0,>=2.3.0->pytorch-forecasting) (4.11.3)\n",
      "Requirement already satisfied: wcwidth>=0.1.7 in c:\\users\\lorenzo\\anaconda3\\lib\\site-packages (from cmd2>=1.0.0->cliff->optuna<3.0.0,>=2.3.0->pytorch-forecasting) (0.2.5)\n",
      "Requirement already satisfied: attrs>=16.3.0 in c:\\users\\lorenzo\\anaconda3\\lib\\site-packages (from cmd2>=1.0.0->cliff->optuna<3.0.0,>=2.3.0->pytorch-forecasting) (21.4.0)\n",
      "Collecting pyperclip>=1.6\n",
      "  Downloading pyperclip-1.8.2.tar.gz (20 kB)\n",
      "  Preparing metadata (setup.py): started\n",
      "  Preparing metadata (setup.py): finished with status 'done'\n",
      "Collecting pyreadline3\n",
      "  Downloading pyreadline3-3.4.1-py3-none-any.whl (95 kB)\n",
      "     ---------------------------------------- 95.2/95.2 kB 2.7 MB/s eta 0:00:00\n",
      "Requirement already satisfied: zipp>=0.5 in c:\\users\\lorenzo\\anaconda3\\lib\\site-packages (from importlib-metadata>=4.4->cliff->optuna<3.0.0,>=2.3.0->pytorch-forecasting) (3.8.0)\n",
      "Collecting pbr!=2.1.0,>=2.0.0\n",
      "  Downloading pbr-5.11.1-py2.py3-none-any.whl (112 kB)\n",
      "     -------------------------------------- 112.7/112.7 kB 6.4 MB/s eta 0:00:00\n",
      "Requirement already satisfied: multidict<7.0,>=4.5 in c:\\users\\lorenzo\\anaconda3\\lib\\site-packages (from aiohttp->fsspec[http]>2021.06.0->pytorch-lightning<2.0.0,>=1.2.4->pytorch-forecasting) (6.0.4)\n",
      "Requirement already satisfied: aiosignal>=1.1.2 in c:\\users\\lorenzo\\anaconda3\\lib\\site-packages (from aiohttp->fsspec[http]>2021.06.0->pytorch-lightning<2.0.0,>=1.2.4->pytorch-forecasting) (1.3.1)\n",
      "Requirement already satisfied: async-timeout<5.0,>=4.0.0a3 in c:\\users\\lorenzo\\anaconda3\\lib\\site-packages (from aiohttp->fsspec[http]>2021.06.0->pytorch-lightning<2.0.0,>=1.2.4->pytorch-forecasting) (4.0.2)\n",
      "Requirement already satisfied: charset-normalizer<4.0,>=2.0 in c:\\users\\lorenzo\\anaconda3\\lib\\site-packages (from aiohttp->fsspec[http]>2021.06.0->pytorch-lightning<2.0.0,>=1.2.4->pytorch-forecasting) (2.0.4)\n",
      "Requirement already satisfied: frozenlist>=1.1.1 in c:\\users\\lorenzo\\anaconda3\\lib\\site-packages (from aiohttp->fsspec[http]>2021.06.0->pytorch-lightning<2.0.0,>=1.2.4->pytorch-forecasting) (1.3.3)\n",
      "Requirement already satisfied: yarl<2.0,>=1.0 in c:\\users\\lorenzo\\anaconda3\\lib\\site-packages (from aiohttp->fsspec[http]>2021.06.0->pytorch-lightning<2.0.0,>=1.2.4->pytorch-forecasting) (1.8.2)\n",
      "Requirement already satisfied: MarkupSafe>=0.9.2 in c:\\users\\lorenzo\\anaconda3\\lib\\site-packages (from Mako->alembic->optuna<3.0.0,>=2.3.0->pytorch-forecasting) (2.0.1)\n",
      "Requirement already satisfied: certifi>=2017.4.17 in c:\\users\\lorenzo\\anaconda3\\lib\\site-packages (from requests->fsspec[http]>2021.06.0->pytorch-lightning<2.0.0,>=1.2.4->pytorch-forecasting) (2022.9.14)\n",
      "Requirement already satisfied: idna<4,>=2.5 in c:\\users\\lorenzo\\anaconda3\\lib\\site-packages (from requests->fsspec[http]>2021.06.0->pytorch-lightning<2.0.0,>=1.2.4->pytorch-forecasting) (3.3)\n",
      "Requirement already satisfied: urllib3<1.27,>=1.21.1 in c:\\users\\lorenzo\\anaconda3\\lib\\site-packages (from requests->fsspec[http]>2021.06.0->pytorch-lightning<2.0.0,>=1.2.4->pytorch-forecasting) (1.26.11)\n",
      "Building wheels for collected packages: pyperclip\n",
      "  Building wheel for pyperclip (setup.py): started\n",
      "  Building wheel for pyperclip (setup.py): finished with status 'done'\n",
      "  Created wheel for pyperclip: filename=pyperclip-1.8.2-py3-none-any.whl size=11123 sha256=1a5256841b1e7ce0026ba83291249a4f4461c203fda1e70f4b6fdffd83cbe6de\n",
      "  Stored in directory: c:\\users\\lorenzo\\appdata\\local\\pip\\cache\\wheels\\0c\\09\\9e\\49e21a6840ef7955b06d47394afef0058f0378c0914e48b8b8\n",
      "Successfully built pyperclip\n",
      "Installing collected packages: pyreadline3, pyperclip, torch, PrettyTable, pbr, Mako, colorlog, cmd2, cmaes, autopage, torchmetrics, stevedore, lightning-utilities, alembic, cliff, pytorch-lightning, optuna, pytorch-forecasting\n",
      "Successfully installed Mako-1.2.4 PrettyTable-3.6.0 alembic-1.10.2 autopage-0.5.1 cliff-4.2.0 cmaes-0.9.1 cmd2-2.4.3 colorlog-6.7.0 lightning-utilities-0.8.0 optuna-2.10.1 pbr-5.11.1 pyperclip-1.8.2 pyreadline3-3.4.1 pytorch-forecasting-0.10.3 pytorch-lightning-1.9.4 stevedore-5.0.0 torch-1.13.1 torchmetrics-0.11.4\n"
     ]
    }
   ],
   "source": [
    "!pip install pytorch-forecasting\n"
   ]
  },
  {
   "cell_type": "code",
   "execution_count": 27,
   "id": "4f1980be-9544-4983-856c-adae0fb142f7",
   "metadata": {},
   "outputs": [
    {
     "name": "stderr",
     "output_type": "stream",
     "text": [
      "Matplotlib is building the font cache; this may take a moment.\n"
     ]
    },
    {
     "ename": "TypeError",
     "evalue": "'numpy.ndarray' object is not callable",
     "output_type": "error",
     "traceback": [
      "\u001b[1;31m---------------------------------------------------------------------------\u001b[0m",
      "\u001b[1;31mTypeError\u001b[0m                                 Traceback (most recent call last)",
      "\u001b[1;32m~\\AppData\\Local\\Temp\\ipykernel_10412\\1642844450.py\u001b[0m in \u001b[0;36m<module>\u001b[1;34m\u001b[0m\n\u001b[0;32m     12\u001b[0m \u001b[0murl\u001b[0m \u001b[1;33m=\u001b[0m \u001b[1;34mf'https://www.alphavantage.co/query?function=TIME_SERIES_DAILY_ADJUSTED&symbol={symbol}&outputsize=compact&apikey=588A7VF9GZ37XYPY'\u001b[0m\u001b[1;33m\u001b[0m\u001b[1;33m\u001b[0m\u001b[0m\n\u001b[0;32m     13\u001b[0m \u001b[0mdf\u001b[0m \u001b[1;33m=\u001b[0m \u001b[0mpd\u001b[0m\u001b[1;33m.\u001b[0m\u001b[0mread_json\u001b[0m\u001b[1;33m(\u001b[0m\u001b[0murl\u001b[0m\u001b[1;33m)\u001b[0m\u001b[1;33m[\u001b[0m\u001b[1;34m'Time Series (Daily)'\u001b[0m\u001b[1;33m]\u001b[0m\u001b[1;33m\u001b[0m\u001b[1;33m\u001b[0m\u001b[0m\n\u001b[1;32m---> 14\u001b[1;33m \u001b[0mdf\u001b[0m \u001b[1;33m=\u001b[0m \u001b[0mpd\u001b[0m\u001b[1;33m.\u001b[0m\u001b[0mDataFrame\u001b[0m\u001b[1;33m.\u001b[0m\u001b[0mfrom_dict\u001b[0m\u001b[1;33m(\u001b[0m\u001b[0mdf\u001b[0m\u001b[1;33m,\u001b[0m \u001b[0morient\u001b[0m\u001b[1;33m=\u001b[0m\u001b[1;34m'index'\u001b[0m\u001b[1;33m)\u001b[0m\u001b[1;33m\u001b[0m\u001b[1;33m\u001b[0m\u001b[0m\n\u001b[0m\u001b[0;32m     15\u001b[0m \u001b[0mdf\u001b[0m \u001b[1;33m=\u001b[0m \u001b[0mdf\u001b[0m\u001b[1;33m.\u001b[0m\u001b[0miloc\u001b[0m\u001b[1;33m[\u001b[0m\u001b[1;33m:\u001b[0m\u001b[1;33m:\u001b[0m\u001b[1;33m-\u001b[0m\u001b[1;36m1\u001b[0m\u001b[1;33m]\u001b[0m\u001b[1;33m\u001b[0m\u001b[1;33m\u001b[0m\u001b[0m\n\u001b[0;32m     16\u001b[0m \u001b[0mdf\u001b[0m\u001b[1;33m.\u001b[0m\u001b[0mindex\u001b[0m \u001b[1;33m=\u001b[0m \u001b[0mpd\u001b[0m\u001b[1;33m.\u001b[0m\u001b[0mto_datetime\u001b[0m\u001b[1;33m(\u001b[0m\u001b[0mdf\u001b[0m\u001b[1;33m.\u001b[0m\u001b[0mindex\u001b[0m\u001b[1;33m)\u001b[0m\u001b[1;33m\u001b[0m\u001b[1;33m\u001b[0m\u001b[0m\n",
      "\u001b[1;32m~\\anaconda3\\lib\\site-packages\\pandas\\core\\frame.py\u001b[0m in \u001b[0;36mfrom_dict\u001b[1;34m(cls, data, orient, dtype, columns)\u001b[0m\n\u001b[0;32m   1664\u001b[0m             \u001b[1;32mif\u001b[0m \u001b[0mlen\u001b[0m\u001b[1;33m(\u001b[0m\u001b[0mdata\u001b[0m\u001b[1;33m)\u001b[0m \u001b[1;33m>\u001b[0m \u001b[1;36m0\u001b[0m\u001b[1;33m:\u001b[0m\u001b[1;33m\u001b[0m\u001b[1;33m\u001b[0m\u001b[0m\n\u001b[0;32m   1665\u001b[0m                 \u001b[1;31m# TODO speed up Series case\u001b[0m\u001b[1;33m\u001b[0m\u001b[1;33m\u001b[0m\u001b[0m\n\u001b[1;32m-> 1666\u001b[1;33m                 \u001b[1;32mif\u001b[0m \u001b[0misinstance\u001b[0m\u001b[1;33m(\u001b[0m\u001b[0mlist\u001b[0m\u001b[1;33m(\u001b[0m\u001b[0mdata\u001b[0m\u001b[1;33m.\u001b[0m\u001b[0mvalues\u001b[0m\u001b[1;33m(\u001b[0m\u001b[1;33m)\u001b[0m\u001b[1;33m)\u001b[0m\u001b[1;33m[\u001b[0m\u001b[1;36m0\u001b[0m\u001b[1;33m]\u001b[0m\u001b[1;33m,\u001b[0m \u001b[1;33m(\u001b[0m\u001b[0mSeries\u001b[0m\u001b[1;33m,\u001b[0m \u001b[0mdict\u001b[0m\u001b[1;33m)\u001b[0m\u001b[1;33m)\u001b[0m\u001b[1;33m:\u001b[0m\u001b[1;33m\u001b[0m\u001b[1;33m\u001b[0m\u001b[0m\n\u001b[0m\u001b[0;32m   1667\u001b[0m                     \u001b[0mdata\u001b[0m \u001b[1;33m=\u001b[0m \u001b[0m_from_nested_dict\u001b[0m\u001b[1;33m(\u001b[0m\u001b[0mdata\u001b[0m\u001b[1;33m)\u001b[0m\u001b[1;33m\u001b[0m\u001b[1;33m\u001b[0m\u001b[0m\n\u001b[0;32m   1668\u001b[0m                 \u001b[1;32melse\u001b[0m\u001b[1;33m:\u001b[0m\u001b[1;33m\u001b[0m\u001b[1;33m\u001b[0m\u001b[0m\n",
      "\u001b[1;31mTypeError\u001b[0m: 'numpy.ndarray' object is not callable"
     ]
    }
   ],
   "source": [
    "import pandas as pd\n",
    "from pytorch_forecasting import TimeSeriesDataSet, TemporalFusionTransformer\n",
    "\n",
    "# Define el símbolo de la empresa para la que deseas descargar datos\n",
    "symbol = 'AAPL'\n",
    "\n",
    "# Define el rango de fechas que deseas descargar\n",
    "start_date = '2022-01-01'\n",
    "end_date = '2022-03-31'\n",
    "\n",
    "# Descarga los datos de la API de Alpha Vantage y los convierte en un DataFrame de pandas\n",
    "url = f'https://www.alphavantage.co/query?function=TIME_SERIES_DAILY_ADJUSTED&symbol={symbol}&outputsize=compact&apikey=588A7VF9GZ37XYPY'\n",
    "df = pd.read_json(url)['Time Series (Daily)']\n",
    "df = pd.DataFrame.from_dict(df, orient='index')\n",
    "df = df.iloc[::-1]\n",
    "df.index = pd.to_datetime(df.index)\n",
    "\n",
    "# Limita los datos descargados al rango de fechas deseado\n",
    "df = df.loc[start_date:end_date]\n",
    "\n",
    "# Crea el conjunto de datos para el modelo TFT\n",
    "# La variable target es el precio de cierre 'Close'\n",
    "# Utilizamos los últimos 5 días como input y predecimos el siguiente día\n",
    "# Creamos una ventana de entrenamiento deslizante de 5 días\n",
    "training_data = TimeSeriesDataSet(\n",
    "    df,\n",
    "    time_idx=\"date\",\n",
    "    target=\"Close\",\n",
    "    group_ids=[\"symbol\"],\n",
    "    min_encoder_length=5,\n",
    "    max_encoder_length=5,\n",
    "    min_prediction_length=1,\n",
    "    max_prediction_length=1,\n",
    "    static_categoricals=[\"symbol\"],\n",
    "    time_varying_unknown_reals=[\"Close\"],\n",
    "    time_varying_known_categoricals=[\"day_of_week\"],\n",
    "    time_varying_known_reals=[\"High\", \"Low\", \"Open\", \"Volume\"],\n",
    "    add_relative_time_idx=True,\n",
    "    add_target_scales=True,\n",
    "    add_encoder_length=True,\n",
    ")\n",
    "\n",
    "# Creamos el modelo TFT con 2 capas de LSTM y 2 capas de Linear\n",
    "# Utilizamos una learning rate de 0.01 y un batch size de 32\n",
    "model = TemporalFusionTransformer.from_dataset(\n",
    "    training_data,\n",
    "    learning_rate=0.01,\n",
    "    hidden_size=32,\n",
    "    attention_head_size=1,\n",
    "    dropout=0.1,\n",
    "    output_size=7,  # forecasting horizon\n",
    "    loss=SMAPELoss(),\n",
    "    reduce_on_plateau_patience=4,\n",
    ")\n",
    "trainer = pl.Trainer(gpus=0, max_epochs=10, gradient_clip_val=0.1)\n",
    "trainer.fit(model, train_dataloader=training_data.to_dataloader(train=True, batch_size=32, num_workers=0))\n",
    "\n",
    "# Calculamos la predicción y el intervalo de confianza del 95%\n",
    "# Utilizamos el método predict_quantiles para obtener las franjas de confianza\n",
    "new_prediction_dataset = training_data.to_prediction_dataset(\n",
    "    training_data[-5:],\n",
    "    add_relative_time_idx=True,\n",
    "    add_encoder_length=True,\n",
    ")\n",
    "predictions = model.predict(new_prediction_dataset)\n",
    "forecast = predictions.quantiles.detach().numpy()[0]\n",
    "y_pred = forecast[-1]\n",
    "y_lower = forecast[-1, 0.025]\n",
    "y_upper =res.predict(pd.DataFrame({'x': x_pred}), exog={'x': x_pred}, quantile=0.975)\n",
    "\n",
    "# Imprimimos la predicción y el intervalo de confianza\n",
    "print(f'Predicción: {y_pred}')\n",
    "print(f'Intervalo de confianza del 95%: ({y_lower}, {y_upper})')\n"
   ]
  },
  {
   "cell_type": "code",
   "execution_count": null,
   "id": "b77c158e-6f56-4e44-a5c6-c779985f62f2",
   "metadata": {},
   "outputs": [],
   "source": []
  }
 ],
 "metadata": {
  "kernelspec": {
   "display_name": "Python 3 (ipykernel)",
   "language": "python",
   "name": "python3"
  },
  "language_info": {
   "codemirror_mode": {
    "name": "ipython",
    "version": 3
   },
   "file_extension": ".py",
   "mimetype": "text/x-python",
   "name": "python",
   "nbconvert_exporter": "python",
   "pygments_lexer": "ipython3",
   "version": "3.9.13"
  }
 },
 "nbformat": 4,
 "nbformat_minor": 5
}
