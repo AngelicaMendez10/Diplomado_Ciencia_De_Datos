{
 "cells": [
  {
   "cell_type": "markdown",
   "id": "f75036d9-3db1-42e2-b9d4-3b0a893a668c",
   "metadata": {},
   "source": [
    "# <center> <span style=\"color:red\">El Teorema de Bayes en el Machine learning</span> </center>"
   ]
  },
  {
   "cell_type": "markdown",
   "id": "4cfe7923-8653-4f6e-9bd8-7a41f6e9905b",
   "metadata": {},
   "source": [
    "<center> <img src=\"12345678.png\" width=\"400\">   </center>\n",
    "    \n",
    "<center>   <span style=\"color:blue\"> Fuente:</span> Angelica Mendez, estudiante de Estadística. </center>"
   ]
  },
  {
   "cell_type": "markdown",
   "id": "c1e087d4-b1b5-48f0-a23a-06ef4c2666cb",
   "metadata": {},
   "source": [
    "## <center> <span style=\"color:blue\">Presentación de la autora </span> </center>"
   ]
  },
  {
   "cell_type": "markdown",
   "id": "18fa347a-464c-4ddc-839f-0434ff136325",
   "metadata": {},
   "source": [
    "####  <center> *Angelica Mendez Buitrago* </center>"
   ]
  },
  {
   "cell_type": "markdown",
   "id": "086e5476-9b66-46a0-942a-af65314ae00f",
   "metadata": {},
   "source": [
    "Soy estudiante del pregrado de Estadística de la Universidad Nacional de Colombia, tengo 21 años y me encuentro cursando materias de séptima matrícula de la carrera, trabaje como promotora de la Facultad de Ciencias, en donde me encargaba de manejar las redes sociales de la Dirección de Bienestar y la foto que presento en este cuaderno es una que capture y publique en el instagram de Bienestar de la Facultad de Ciencias.  "
   ]
  },
  {
   "cell_type": "markdown",
   "id": "9f379462-ac47-4f0c-8660-00005eb98166",
   "metadata": {},
   "source": [
    "<img src=\"12345.png\" width=\"260\"> \n",
    "\n",
    "<span style=\"color:blue\"> Fuente:</span> Angelica Mendez, estudiante de Estadística."
   ]
  },
  {
   "cell_type": "markdown",
   "id": "8ef458b4-39b1-4f75-a93f-f39f2551961b",
   "metadata": {},
   "source": [
    "## <center> <span style=\"color:blue\">El Teorema de Bayes en el Machine learning</span> </center>"
   ]
  },
  {
   "cell_type": "markdown",
   "id": "c4869f8c-c450-462c-967c-d93b82e803f9",
   "metadata": {},
   "source": [
    "El teorema de Bayes es una herramienta útil en el aprendizaje automático aplicado. Para comprender el teorema de Bayes en el aprendizaje automático, es esencial comprender que el teorema de Bayes es muy útil para estimar la precisión de los valores. Para saber cómo, comencemos esto desde el principio. El Teorema de Bayes es un enunciado y un teorema dado por un matemático británico del siglo XVIII. La fórmula que dedujo es efectiva y se usa en probabilidad condicional."
   ]
  },
  {
   "cell_type": "markdown",
   "id": "2cef076b-b964-499f-8a54-0bdfed47c744",
   "metadata": {},
   "source": [
    "## <center> <span style=\"color:blue\"> Teorema de Bayes </span> </center>"
   ]
  },
  {
   "cell_type": "markdown",
   "id": "3da945f5-8592-47ff-80fc-76f89742725b",
   "metadata": {},
   "source": [
    " El teorema de Bayes (1812) definió la probabilidad de que un evento ocurra basándose en el conocimiento de las condiciones previas que pudieran estar relacionadas con dicho evento."
   ]
  },
  {
   "cell_type": "markdown",
   "id": "227705ed-0c68-4997-b107-5e21073d65a6",
   "metadata": {},
   "source": [
    "El teorema de Bayes se expresa matemáticamente como la siguiente ecuación:"
   ]
  },
  {
   "cell_type": "markdown",
   "id": "de35b3ff-c7ee-4e03-a5d1-be94979af9b4",
   "metadata": {},
   "source": [
    "$$ P(A|B)=\\frac{P(B|A)P(A)}{P(B)}$$ "
   ]
  },
  {
   "cell_type": "markdown",
   "id": "bc663fb4-54ad-41d8-88ba-be74af7f94d3",
   "metadata": {},
   "source": [
    "dónde $A$ y $B$ son eventos y $P(B) ≠ 0$\n",
    "\n",
    "$P(A|B)$ es una probabilidad condicional : la probabilidad del evento A dado que B es verdad. \n",
    "\n",
    "$P(B|A)$ es también una probabilidad condicional: la probabilidad de evento B dado que A es verdad. "
   ]
  },
  {
   "cell_type": "markdown",
   "id": "86cdabce-8b25-4135-9a1c-ea7ddeacddfc",
   "metadata": {},
   "source": [
    "Años después (en la década de 1940) otra serie de científicos sentaron las bases de la programación informática: capaz de traducir una serie de instrucciones en acciones ejecutables por un ordenador. Estos precedentes hicieron posible que en 1950 el matemático Alan Turing plantease por primera vez la pregunta de si es posible que las máquinas puedan pensar, con la que plantó la semilla de la creación de computadoras de ‘inteligencia artificial’. Computadoras capaces de replicar de forma autónoma tareas típicamente humanas, como la escritura o el reconocimiento de imágenes."
   ]
  },
  {
   "cell_type": "markdown",
   "id": "6316ca4e-d7b4-40b3-93b1-8e5709f674f0",
   "metadata": {},
   "source": [
    "Fue un poco más adelante, entre las décadas de 1950 y 1960, cuando distintos científicos empezaron investigar cómo aplicar la biología de las redes neuronales del cerebro humano para tratar de crear las primeras máquinas inteligentes. La idea derivó en la creación de las redes neuronales artificiales, un modelo computacional inspirado en la forma en que las neuronas transmiten la información entre ellas a través de una red de nodos interconectados. Uno de los primeros experimentos en este sentido lo realizaron Marvin Minksy y Dean Edmonds, científicos del Instituto Tecnológico de Massachussets (MIT). Ambos lograron crear un programa informático capaz de aprender de la experiencia para salir de un laberinto.\n",
    "\n"
   ]
  },
  {
   "cell_type": "markdown",
   "id": "7e234193-ad02-4d5a-963d-62663feb3ef3",
   "metadata": {},
   "source": [
    "## <center> <span style=\"color:blue\"> Ejemplo </span> </center>"
   ]
  },
  {
   "cell_type": "markdown",
   "id": "62710e62-5540-447a-8a8b-d4d8a4f25bcf",
   "metadata": {},
   "source": [
    "Tenemos un experimento de tirar un dado y registrando su resultado, el espacio muestral será:\n",
    "\n",
    "$$S_1 = {1, 2, 3, 4, 5, 6}$$\n",
    "\n",
    "Ahora cuando lancemos una moneda\n",
    "\n",
    "$$ S_2 = {H, T}$$\n",
    "\n",
    "Volvamos al experimento de lanzar un dado y definamos los eventos E y F como:\n",
    "\n",
    "$E =$ Se obtiene un número par $= {2, 4, 6}$\n",
    "\n",
    "$F =$ Se obtiene un número mayor que $3 = {4, 5, 6}$\n",
    "\n",
    "La probabilidad de estos eventos:\n",
    "\n",
    "$P (E) =$ Número de resultados favorables / Número total de resultados posibles $= 3/6 = 0,5$\n",
    "\n",
    "$P (F) = 3/6 = 0.5$\n",
    "\n",
    "Las operaciones básicas en la teoría de conjuntos, unión e intersección de eventos, son posibles porque un evento es un conjunto.\n",
    "\n",
    "Entonces, E∪F = {2, 4, 5, 6} y E∩F = {4, 6}\n",
    "\n",
    "Ahora considera un evento G = Se obtiene un número impar:\n",
    "\n",
    "Entonces E ∩ G = conjunto vacío = Φ\n",
    "\n",
    "Tales eventos se denominan eventos inconexos. Estos también se denominan eventos mutuamente excluyentes porque solo uno de los dos eventos puede ocurrir a la vez."
   ]
  },
  {
   "cell_type": "markdown",
   "id": "ddd6c092-17fe-4a6b-9fb0-2ddfa27efc72",
   "metadata": {
    "tags": []
   },
   "source": [
    "## <center> <span style=\"color:blue\"> Referencias </span> </center>"
   ]
  },
  {
   "cell_type": "markdown",
   "id": "d0f4d5b0-9616-46e4-85c2-b28d0c1322dd",
   "metadata": {},
   "source": [
    "BBVA(2019)\"'Machine learning': ¿qué es y cómo funciona?\", BBVA Fuente:[https://www.bbva.com/es/bbva-y-la-universidad-de-navarra-forman-a-130-profesionales-en-ciencia-de-datos/](https://www.bbva.com/es/bbva-y-la-universidad-de-navarra-forman-a-130-profesionales-en-ciencia-de-datos/)\n",
    "\n",
    "Gelman, A, Carlin, JB, Stern, HS y Rubin, DB (2003), \"Análisis de datos bayesianos\", segunda edición, CRC Press."
   ]
  }
 ],
 "metadata": {
  "kernelspec": {
   "display_name": "Python 3 (ipykernel)",
   "language": "python",
   "name": "python3"
  },
  "language_info": {
   "codemirror_mode": {
    "name": "ipython",
    "version": 3
   },
   "file_extension": ".py",
   "mimetype": "text/x-python",
   "name": "python",
   "nbconvert_exporter": "python",
   "pygments_lexer": "ipython3",
   "version": "3.9.13"
  }
 },
 "nbformat": 4,
 "nbformat_minor": 5
}
