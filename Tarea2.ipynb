{
 "cells": [
  {
   "cell_type": "markdown",
   "id": "1c750ba3-bad1-45d7-8ec6-95ca0937ea01",
   "metadata": {},
   "source": [
    "# <center> <span style=\"color:blue\">Inteligencia Artificial</span> </center>"
   ]
  },
  {
   "cell_type": "markdown",
   "id": "295c2e9b-62e4-4a16-abe7-19a6ceed0cc5",
   "metadata": {},
   "source": [
    "# <center> <span style=\"color:red\">Tarea 2 funciones</span> </center>"
   ]
  },
  {
   "cell_type": "markdown",
   "id": "9fd54e87-0a3f-4aa7-881f-929c04c9f752",
   "metadata": {},
   "source": [
    "## <center> <span style=\"color:Blue\">Angelica Mendez Buitrago </span> </center>"
   ]
  },
  {
   "cell_type": "markdown",
   "id": "b81f6c34-15ac-4894-9a0b-0228161c72f8",
   "metadata": {},
   "source": [
    "Cada ejercicio debe ser probado con un ejemplo de datos.\n",
    "1. Escriba una función  que reciba la fecha de nacimiento de un a persona y calcule la edad de la persona\n",
    "\n"
   ]
  },
  {
   "cell_type": "code",
   "execution_count": 20,
   "id": "8e4bd1d4-b06b-4968-a3c1-065d8e8c77a2",
   "metadata": {},
   "outputs": [
    {
     "name": "stdout",
     "output_type": "stream",
     "text": [
      "Inserta la fecha de hoy\n"
     ]
    },
    {
     "name": "stdin",
     "output_type": "stream",
     "text": [
      "Día 12\n",
      "Mes (colocar 1 si es enero, 2 si es febrero ....) 2\n",
      "año  2023\n"
     ]
    },
    {
     "name": "stdout",
     "output_type": "stream",
     "text": [
      "Vamos a calcular tu edad, Por favor inserte su fecha de nacimiento:\n"
     ]
    },
    {
     "name": "stdin",
     "output_type": "stream",
     "text": [
      "Día  11\n",
      "Mes (colocar 1 si es enero, 2 si es febrero ....) 2\n",
      "año  2000\n"
     ]
    },
    {
     "name": "stdout",
     "output_type": "stream",
     "text": [
      "Tu edad es: 23\n"
     ]
    }
   ],
   "source": [
    "print('Inserta la fecha de hoy')\n",
    "dia1 = int(input('Día'))\n",
    "mes1 = int(input('Mes (colocar 1 si es enero, 2 si es febrero ....)'))\n",
    "año1 = int(input('año '))\n",
    "\n",
    "\n",
    "print('Vamos a calcular tu edad, Por favor inserte su fecha de nacimiento:')\n",
    "dia = int(input('Día '))\n",
    "mes = int(input('Mes (colocar 1 si es enero, 2 si es febrero ....)'))\n",
    "año = int(input('año '))\n",
    "\n",
    "x=año1-año\n",
    "x2=año1-año-1\n",
    "\n",
    "if mes1 >= mes and dia1>=dia:\n",
    "    print('Tu edad es:',x)\n",
    "else:\n",
    "    print('Tu edad es:',x2)"
   ]
  },
  {
   "cell_type": "markdown",
   "id": "067e4174-f950-4937-b9a5-84e75ea1059d",
   "metadata": {},
   "source": [
    "2. Crea una función EscribirCentrado, que reciba como parámetro un texto y lo escriba centrado en pantalla (suponiendo una anchura de 80 columnas; pista: deberás escribir 40 - longitud/2 espacios antes del texto).  \n"
   ]
  },
  {
   "cell_type": "code",
   "execution_count": 3,
   "id": "b28aecdc-1404-4926-9c5a-feacdab731cf",
   "metadata": {},
   "outputs": [],
   "source": [
    "def EscribirCentrado(x):\n",
    "    longitud = len(x)\n",
    "    y = 40 - longitud // 2\n",
    "    print(\" \" * y + x)"
   ]
  },
  {
   "cell_type": "markdown",
   "id": "d71b543b-bf98-481c-b3a8-736644dbc1fd",
   "metadata": {},
   "source": [
    "\n",
    "\n",
    "3. Construya una función decorada que reciba un texto y lo escriba marcado con Markdown en itálica y resaltada (bold). Revise la lección de decoradores, no vista en clase.\n"
   ]
  },
  {
   "cell_type": "code",
   "execution_count": 30,
   "id": "5b2f6b6f-4656-4ebb-b6f6-6c32fa1c1fcd",
   "metadata": {},
   "outputs": [
    {
     "name": "stdout",
     "output_type": "stream",
     "text": [
      "Inteligencia Artificial\n"
     ]
    }
   ],
   "source": [
    "def markdown_decorador(func):\n",
    "    def wrapper(texto):\n",
    "        return f\"{func(texto)}\"\n",
    "    return wrapper\n",
    "\n",
    "@markdown_decorador\n",
    "def escribir_texto(texto):\n",
    "    return f\"{texto}\"\n",
    "\n",
    "texto_decorado = escribir_texto(\"Inteligencia Artificial\")\n",
    "print(texto_decorado) "
   ]
  },
  {
   "cell_type": "markdown",
   "id": "793c3666-35e3-48cc-8384-51559a2dd2cf",
   "metadata": {},
   "source": [
    "\n",
    "4.  Crea un programa que pida dos número enteros al usuario y diga si alguno de ellos es múltiplo del otro. \n",
    "\n"
   ]
  },
  {
   "cell_type": "code",
   "execution_count": 36,
   "id": "a6f74d1a-1977-4e0d-8d09-becdd6413110",
   "metadata": {},
   "outputs": [
    {
     "name": "stdout",
     "output_type": "stream",
     "text": [
      "Vamos a comprobar si dos números entretos son o no multiplos entre si\n"
     ]
    },
    {
     "name": "stdin",
     "output_type": "stream",
     "text": [
      "Inserte el primer entero 4\n",
      "Inserte el segundo entero 2\n"
     ]
    },
    {
     "name": "stdout",
     "output_type": "stream",
     "text": [
      "4 2 alguno de ellos es múltiplo del otro\n"
     ]
    }
   ],
   "source": [
    "print('Vamos a comprobar si dos números entretos son o no multiplos entre si')\n",
    "\n",
    "a= int(input('Inserte el primer entero'))\n",
    "b= int(input('Inserte el segundo entero'))\n",
    " \n",
    "if a%b==0 or b%a==0  :\n",
    "    print(a, b,'alguno de ellos es múltiplo del otro')\n",
    "else :\n",
    "    print(a, b,'ninguno de ellos es múltiplo del otro')\n"
   ]
  },
  {
   "cell_type": "markdown",
   "id": "bedc50e6-4190-443d-9265-095f68379528",
   "metadata": {},
   "source": [
    "\n",
    "5. Crear una función re reciba una lista  de 24 valores de temperatura leída  hora en un día y que calcule la temperatura media  Cree una lista con 24 valores de temperatura de un día de Bogotá y pruebe su función. Invente los datos.\n",
    "\n"
   ]
  },
  {
   "cell_type": "code",
   "execution_count": 9,
   "id": "75bedebd-bce2-4c36-8eca-ae7ddd50990b",
   "metadata": {},
   "outputs": [],
   "source": [
    "temperaturas_bogota = [15, 12, 14, 16, 15, 14, 14, 13, 17, 13, 14, 15, 16, 17, 17, 18, 11, 19, 12, 18, 18, 17, 16, 15]\n",
    "\n"
   ]
  },
  {
   "cell_type": "code",
   "execution_count": 23,
   "id": "31ba8477-942e-49eb-9fa2-be87999b1eba",
   "metadata": {},
   "outputs": [
    {
     "name": "stdout",
     "output_type": "stream",
     "text": [
      "La temperatura media en Bogotá fue de {media_bogota} grados Centigrados\n"
     ]
    }
   ],
   "source": [
    "media_bogota = (sum(temperaturas_bogota)/24)\n",
    "print(\"La temperatura media en Bogotá fue de {media_bogota} grados Centigrados\")\n"
   ]
  },
  {
   "cell_type": "markdown",
   "id": "de13e19e-f864-4b70-815e-ecdcbe291aa5",
   "metadata": {},
   "source": [
    "\n",
    "5. Crea un función “ConvertirEspaciado”, que reciba como parámetro un texto y devuelve una cadena con un espacio adicional tras cada letra. Por ejemplo, “Hola, tú” devolverá “H o l a , t ú “.  Pruebe \n",
    "\n"
   ]
  },
  {
   "cell_type": "code",
   "execution_count": 19,
   "id": "04e4ce2a-0e63-453a-9f0d-368091628ca1",
   "metadata": {},
   "outputs": [
    {
     "name": "stdin",
     "output_type": "stream",
     "text": [
      "Insertar texto que deasea que se modifique Inteligencia Artificial\n"
     ]
    },
    {
     "name": "stdout",
     "output_type": "stream",
     "text": [
      "I n t e l i g e n c i a   A r t i f i c i a l\n"
     ]
    }
   ],
   "source": [
    "def ConvertirEspaciado(texto):\n",
    "    espaciado = \" \"\n",
    "    texto_espaciado = espaciado.join(texto)\n",
    "    return texto_espaciado\n",
    "x=(input('Insertar texto que deasea que se modifique'))\n",
    "texto_espaciado = ConvertirEspaciado(x)\n",
    "print(texto_espaciado)\n"
   ]
  },
  {
   "cell_type": "markdown",
   "id": "e26eebca-2243-48b5-be45-e4542be8f274",
   "metadata": {},
   "source": [
    "6. Crea una función “calcularMaxMin” que recibe una arreglo con valores numérico y devuelve el valor máximo y el mínimo. "
   ]
  },
  {
   "cell_type": "code",
   "execution_count": 37,
   "id": "07397da6-f92b-4630-ab5e-faa7582bb075",
   "metadata": {},
   "outputs": [],
   "source": [
    "def calcularMaxMin(arreglo):\n",
    "    valor_maximo = max(arreglo)\n",
    "    valor_minimo = min(arreglo)\n",
    "    return valor_maximo, valor_minimo\n"
   ]
  },
  {
   "cell_type": "code",
   "execution_count": 40,
   "id": "a74fbbca-07ca-41b4-b475-33c76700eb1f",
   "metadata": {},
   "outputs": [
    {
     "name": "stdout",
     "output_type": "stream",
     "text": [
      "El valor máximo es 11 y el valor mínimo es 1\n"
     ]
    }
   ],
   "source": [
    "valores = [3, 7, 1, 9, 2, 5, 11, 10, 8]\n",
    "maximo, minimo = calcularMaxMin(valores)\n",
    "print(f\"El valor máximo es {maximo} y el valor mínimo es {minimo}\")\n"
   ]
  },
  {
   "cell_type": "markdown",
   "id": "4345083e-0383-4529-a0b2-0753c569612a",
   "metadata": {},
   "source": [
    "\n",
    "7.  Diseñar una función que calcule el área y el perímetro de una circunferencia. \n"
   ]
  },
  {
   "cell_type": "code",
   "execution_count": 41,
   "id": "4c522e6a-a805-41c7-b868-0d87c5f97e0e",
   "metadata": {},
   "outputs": [
    {
     "name": "stdin",
     "output_type": "stream",
     "text": [
      "Ingresa el valor de radio:  10\n"
     ]
    },
    {
     "name": "stdout",
     "output_type": "stream",
     "text": [
      "Valor de area: 314.1592653589793\n",
      "Valor de perimetro: 62.83185307179586\n",
      "\n"
     ]
    }
   ],
   "source": [
    "import os, math\n",
    "\n",
    "radio = float (input ('Ingresa el valor de radio: '))\n",
    "circunferencia=2.0*math.pi*radio\n",
    "perimetro=circunferencia\n",
    "area=math.pi*radio*radio\n",
    "print ('Valor de area: ' + repr (area))\n",
    "print ('Valor de perimetro: ' + repr (perimetro))\n",
    "print ()"
   ]
  },
  {
   "cell_type": "markdown",
   "id": "77f08def-9696-49cd-a668-4477af5b56b5",
   "metadata": {},
   "source": [
    "\n",
    "8. Crear una función  llamada “Login”, que recibe un nombre de usuario y una contraseña y devuelva Verdadero si el nombre de usuario es “usuario1” y la contraseña es “asdasd”. Además recibe el número de intentos que se ha intentado hacer login y si no se ha podido hacer login incremente este valor.\n",
    "\n"
   ]
  },
  {
   "cell_type": "code",
   "execution_count": 42,
   "id": "c3d4d12b-8c9e-4457-b8fe-e16cb97b22bf",
   "metadata": {},
   "outputs": [],
   "source": [
    "def Login(usuario, contrasena, intentos):\n",
    "    if usuario == \"usuario1\" and contrasena == \"asdasd\":\n",
    "        return True, intentos\n",
    "    else:\n",
    "        intentos += 1\n",
    "        return False, intentos\n"
   ]
  },
  {
   "cell_type": "code",
   "execution_count": 47,
   "id": "ef560e73-87eb-4772-a0c1-881b8cfa35bc",
   "metadata": {},
   "outputs": [
    {
     "name": "stdin",
     "output_type": "stream",
     "text": [
      "Nombre de usuario:  usuario1\n",
      "Contraseña:  asdasd\n"
     ]
    },
    {
     "name": "stdout",
     "output_type": "stream",
     "text": [
      "Login exitoso\n"
     ]
    }
   ],
   "source": [
    "intentos = 0\n",
    "usuario = input(\"Nombre de usuario: \")\n",
    "contrasena = input(\"Contraseña: \")\n",
    "login_exitoso, intentos = Login(usuario, contrasena, intentos)\n",
    "if login_exitoso:\n",
    "    print(\"Login exitoso\")\n",
    "else:\n",
    "    print(\"Login fallido\")\n",
    "    print(\"Intentos: {intentos}\")\n"
   ]
  },
  {
   "cell_type": "markdown",
   "id": "4cbe787d-2bb8-481a-b0f7-2f74b64987cb",
   "metadata": {},
   "source": [
    "9. Crear una función recursiva que permita calcular el factorial de un número. Realiza un programa principal donde se lea un entero y se muestre el resultado del factorial. Revise la lección de funciones\n",
    "\n"
   ]
  },
  {
   "cell_type": "code",
   "execution_count": 56,
   "id": "e0882232-a2a7-439f-a10e-425340caec2d",
   "metadata": {},
   "outputs": [
    {
     "name": "stdin",
     "output_type": "stream",
     "text": [
      "Ingrese un número:  4\n"
     ]
    },
    {
     "name": "stdout",
     "output_type": "stream",
     "text": [
      "El factorial de 4 es 24\n"
     ]
    }
   ],
   "source": [
    "def factorial(n):\n",
    "    if n == 0:\n",
    "        return 1\n",
    "    else:\n",
    "        return n * factorial(n - 1)\n",
    "    \n",
    "numero = int(input(\"Ingrese un número: \"))\n",
    "resultado = factorial(numero)\n",
    "print(f\"El factorial de {numero} es {resultado}\")\n"
   ]
  },
  {
   "cell_type": "markdown",
   "id": "6f566d6b-152d-452f-b546-5f7f0bafc4fe",
   "metadata": {},
   "source": [
    "10. Escribir dos funciones que permitan calcular:\n",
    "La cantidad de segundos en un tiempo dado en horas, minutos y segundos.\n",
    "La cantidad de horas, minutos y segundos de un tiempo dado en segundos\n"
   ]
  },
  {
   "cell_type": "code",
   "execution_count": 50,
   "id": "ae53c8ca-847f-4d28-8922-c751e5a556e5",
   "metadata": {},
   "outputs": [
    {
     "name": "stdout",
     "output_type": "stream",
     "text": [
      "El tiempo en segundos es: 11720\n",
      "El tiempo es: 1 horas, 23 minutos y 20 segundos\n"
     ]
    }
   ],
   "source": [
    "def calcular_segundos(horas, minutos, segundos):\n",
    "    total_segundos = horas * 3600 + minutos * 60 + segundos\n",
    "    return total_segundos\n",
    "def calcular_tiempo(segundos):\n",
    "    horas = segundos // 3600\n",
    "    segundos = segundos % 3600\n",
    "    minutos = segundos // 60\n",
    "    segundos = segundos % 60\n",
    "    return horas, minutos, segundos\n",
    "\n",
    "\n",
    "segundos_totales = calcular_segundos(3, 15, 20)\n",
    "print(f\"El tiempo en segundos es: {segundos_totales}\")\n",
    "\n",
    "\n",
    "horas, minutos, segundos = calcular_tiempo(5000)\n",
    "print(f\"El tiempo es: {horas} horas, {minutos} minutos y {segundos} segundos\")\n"
   ]
  },
  {
   "cell_type": "markdown",
   "id": "3ebbec6d-68df-4786-9237-e5bcbbbf537d",
   "metadata": {},
   "source": [
    "\n",
    "\n",
    "11. Crea una función  que lea una tupla, invierta los valores de la tupla y regrese una nueva tupla invirtiendo los valores. Recuerde que las tuplas son inmutables.\n",
    "\n"
   ]
  },
  {
   "cell_type": "code",
   "execution_count": 52,
   "id": "fe16098a-a6bb-4427-a172-0098004f656b",
   "metadata": {},
   "outputs": [
    {
     "name": "stdout",
     "output_type": "stream",
     "text": [
      "Tupla original: (1, 2, 3, 4, 5, 6, 7, 8, 9, 10)\n",
      "Tupla invertida: (10, 9, 8, 7, 6, 5, 4, 3, 2, 1)\n"
     ]
    }
   ],
   "source": [
    "def invertir_tupla(tupla):\n",
    "    tupla_invertida = tuple(reversed(tupla))\n",
    "    return tupla_invertida\n",
    "tupla_original = (1, 2, 3, 4, 5, 6, 7, 8, 9, 10)\n",
    "print(f\"Tupla original: {tupla_original}\")\n",
    "tupla_invertida = invertir_tupla(tupla_original)\n",
    "print(f\"Tupla invertida: {tupla_invertida}\")\n"
   ]
  },
  {
   "cell_type": "markdown",
   "id": "9afe151c-44e2-4e5f-8ac6-de51ca5d5eae",
   "metadata": {},
   "source": [
    "12. Escriba una función que lea una lista y calcule la media geométrica de sus valores, usando funtools.reduce."
   ]
  },
  {
   "cell_type": "code",
   "execution_count": 55,
   "id": "84c18f61-e326-4f58-a5e1-49a5c152b0da",
   "metadata": {},
   "outputs": [
    {
     "name": "stdout",
     "output_type": "stream",
     "text": [
      "Lista: [1, 2, 3, 4, 5]\n",
      "Media geométrica: 2.605171084697352\n"
     ]
    }
   ],
   "source": [
    "from functools import reduce\n",
    "\n",
    "def media_geometrica(lista):\n",
    "    producto = reduce(lambda x, y: x * y, lista)\n",
    "    return producto ** (1 / len(lista))\n",
    "lista = [1, 2, 3, 4, 5]\n",
    "print(f\"Lista: {lista}\")\n",
    "media_geom = media_geometrica(lista)\n",
    "print(f\"Media geométrica: {media_geom}\")\n"
   ]
  },
  {
   "cell_type": "code",
   "execution_count": null,
   "id": "b71b9a39-3a21-47e7-8c2f-021978f14ed0",
   "metadata": {},
   "outputs": [],
   "source": []
  }
 ],
 "metadata": {
  "kernelspec": {
   "display_name": "Python 3 (ipykernel)",
   "language": "python",
   "name": "python3"
  },
  "language_info": {
   "codemirror_mode": {
    "name": "ipython",
    "version": 3
   },
   "file_extension": ".py",
   "mimetype": "text/x-python",
   "name": "python",
   "nbconvert_exporter": "python",
   "pygments_lexer": "ipython3",
   "version": "3.9.13"
  }
 },
 "nbformat": 4,
 "nbformat_minor": 5
}
