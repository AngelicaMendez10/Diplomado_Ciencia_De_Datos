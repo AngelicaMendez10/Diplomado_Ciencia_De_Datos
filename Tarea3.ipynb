{
 "cells": [
  {
   "cell_type": "markdown",
   "id": "95472a65-060e-4171-bc96-fcddfe7e7660",
   "metadata": {},
   "source": [
    "# <center> <span style=\"color:blue\">Inteligencia Artificial</span> </center>"
   ]
  },
  {
   "cell_type": "markdown",
   "id": "e84f579e-0964-4b66-a354-cef244b5ba9b",
   "metadata": {},
   "source": [
    "# <center> <span style=\"color:red\">Tarea 3. Programación orientada a objetos</span> </center>"
   ]
  },
  {
   "cell_type": "markdown",
   "id": "efa8b710-c691-4f46-ae05-ade47ec405a2",
   "metadata": {},
   "source": [
    "## <center> <span style=\"color:Blue\">Angelica Mendez Buitrago </span> </center>"
   ]
  },
  {
   "cell_type": "markdown",
   "id": "bc5316f6-0f51-4d6f-a04d-34a0fcf138b7",
   "metadata": {},
   "source": [
    "3. Escriba una clase con las siguientes funcionalidades:\n"
   ]
  },
  {
   "cell_type": "markdown",
   "id": "ad0d53ab-98d2-4cba-9db2-8b23c8b5eb42",
   "metadata": {},
   "source": [
    "3.1. Al instanciar un objeto, lee un conjunto de datos numéricos. Por ejemplo puede usar el mismo conjunto de datos iris.csv. Instancie los datos en un dataframe de Pandas"
   ]
  },
  {
   "cell_type": "code",
   "execution_count": 1,
   "id": "f9b66437-7efa-4ce3-aa2c-994e86bdd766",
   "metadata": {},
   "outputs": [],
   "source": [
    "import pandas as pd\n",
    "\n",
    "data = pd.read_csv('iris.csv')"
   ]
  },
  {
   "cell_type": "code",
   "execution_count": 8,
   "id": "f486f860-86b0-47df-8e31-8542aee349fa",
   "metadata": {},
   "outputs": [
    {
     "name": "stdout",
     "output_type": "stream",
     "text": [
      "   Id  SepalLengthCm  SepalWidthCm  PetalLengthCm  PetalWidthCm      Species\n",
      "0   1            5.1           3.5            1.4           0.2  Iris-setosa\n",
      "1   2            4.9           3.0            1.4           0.2  Iris-setosa\n",
      "2   3            4.7           3.2            1.3           0.2  Iris-setosa\n",
      "3   4            4.6           3.1            1.5           0.2  Iris-setosa\n",
      "4   5            5.0           3.6            1.4           0.2  Iris-setosa\n"
     ]
    }
   ],
   "source": [
    "dataset = Dataset('iris.csv')\n",
    "print(data.head())"
   ]
  },
  {
   "cell_type": "markdown",
   "id": "dd0f4b1a-e49f-4af4-b17f-52af5a13526b",
   "metadata": {},
   "source": [
    "3.2 Implemente un método que calcule las estadísticas descriptivas básicas de cada una de las variables."
   ]
  },
  {
   "cell_type": "code",
   "execution_count": 9,
   "id": "bbde48a9-c238-4b59-adad-2f9e21256917",
   "metadata": {},
   "outputs": [],
   "source": [
    "class Dataset:\n",
    "    def __init__(self, filename):\n",
    "        self.df = pd.read_csv(filename)\n",
    "    \n",
    "    def calculate_statistics(self):\n",
    "        return self.df.describe()"
   ]
  },
  {
   "cell_type": "code",
   "execution_count": 10,
   "id": "1ecb6320-93cb-4127-ac7f-16d05b62bef7",
   "metadata": {},
   "outputs": [
    {
     "name": "stdout",
     "output_type": "stream",
     "text": [
      "               Id  SepalLengthCm  SepalWidthCm  PetalLengthCm  PetalWidthCm\n",
      "count  150.000000     150.000000    150.000000     150.000000    150.000000\n",
      "mean    75.500000       5.843333      3.054000       3.758667      1.198667\n",
      "std     43.445368       0.828066      0.433594       1.764420      0.763161\n",
      "min      1.000000       4.300000      2.000000       1.000000      0.100000\n",
      "25%     38.250000       5.100000      2.800000       1.600000      0.300000\n",
      "50%     75.500000       5.800000      3.000000       4.350000      1.300000\n",
      "75%    112.750000       6.400000      3.300000       5.100000      1.800000\n",
      "max    150.000000       7.900000      4.400000       6.900000      2.500000\n"
     ]
    }
   ],
   "source": [
    "stats = dataset.calculate_statistics()\n",
    "print(stats)"
   ]
  },
  {
   "cell_type": "markdown",
   "id": "cce56c9e-d4c8-4fc7-95d4-9a5c028a7b78",
   "metadata": {},
   "source": [
    "3.3 Implemente un método que entregue los nombre de las variables disponibles."
   ]
  },
  {
   "cell_type": "code",
   "execution_count": 45,
   "id": "a134513d-1536-489e-9d71-964a77188a1b",
   "metadata": {},
   "outputs": [],
   "source": [
    "    def get_variable_names(self):\n",
    "        return list(self.df.columns)"
   ]
  },
  {
   "cell_type": "code",
   "execution_count": 47,
   "id": "53084ffd-8c57-41bb-97a4-bf7f1a977bbc",
   "metadata": {
    "tags": []
   },
   "outputs": [
    {
     "name": "stdout",
     "output_type": "stream",
     "text": [
      "['Id', 'SepalLengthCm', 'SepalWidthCm', 'PetalLengthCm', 'PetalWidthCm', 'Species']\n"
     ]
    }
   ],
   "source": [
    "names = dataset.get_variable_names()\n",
    "print(names)"
   ]
  },
  {
   "cell_type": "markdown",
   "id": "e516ecc5-e093-43f8-9dcc-9cf5d4434591",
   "metadata": {},
   "source": [
    "3.3 Implemente un método que reciba el nombre de una variable disponible dentro del objeto ( en el  dataframe) y regrese: sus estadísticas básicas:  media, mediana, desviación, percentiles q25, q50, q75 y dibuje un histograma de la distribución de la variable."
   ]
  },
  {
   "cell_type": "code",
   "execution_count": 48,
   "id": "f0df6a3d-6715-46c5-81d4-328e7881eba3",
   "metadata": {},
   "outputs": [],
   "source": [
    "import pandas as pd\n",
    "import matplotlib.pyplot as plt\n",
    "\n",
    "class Dataset:\n",
    "    def __init__(self, names):\n",
    "        self.df = pd.read_csv(names)\n",
    "    \n",
    "    def get_variable_statistics(self, names):\n",
    "        variable_data = self.df[names]\n",
    "        stats = variable_data.describe()\n",
    "        median = stats['50%']\n",
    "        mean = stats['mean']\n",
    "        std = stats['std']\n",
    "        q25 = stats['25%']\n",
    "        q75 = stats['75%']\n",
    "        fig, ax = plt.subplots()\n",
    "        ax.hist(variable_data, bins=20)\n",
    "        ax.set_xlabel(names)\n",
    "        ax.set_ylabel('Frequency')\n",
    "        plt.show()\n",
    "        return {'mean': mean, 'median': median, 'std': std, 'q25': q25, 'q75': q75}\n"
   ]
  },
  {
   "cell_type": "code",
   "execution_count": 49,
   "id": "26119234-d4d5-4168-8f87-ad866c860751",
   "metadata": {},
   "outputs": [
    {
     "ename": "AttributeError",
     "evalue": "'Dataset' object has no attribute 'get_variable_statistics'",
     "output_type": "error",
     "traceback": [
      "\u001b[1;31m---------------------------------------------------------------------------\u001b[0m",
      "\u001b[1;31mAttributeError\u001b[0m                            Traceback (most recent call last)",
      "\u001b[1;32m~\\AppData\\Local\\Temp\\ipykernel_1148\\2858751530.py\u001b[0m in \u001b[0;36m<module>\u001b[1;34m\u001b[0m\n\u001b[1;32m----> 1\u001b[1;33m \u001b[0mstats\u001b[0m \u001b[1;33m=\u001b[0m \u001b[0mdataset\u001b[0m\u001b[1;33m.\u001b[0m\u001b[0mget_variable_statistics\u001b[0m\u001b[1;33m(\u001b[0m\u001b[1;33m)\u001b[0m\u001b[1;33m\u001b[0m\u001b[1;33m\u001b[0m\u001b[0m\n\u001b[0m\u001b[0;32m      2\u001b[0m \u001b[0mprint\u001b[0m\u001b[1;33m(\u001b[0m\u001b[0mstats\u001b[0m\u001b[1;33m)\u001b[0m\u001b[1;33m\u001b[0m\u001b[1;33m\u001b[0m\u001b[0m\n",
      "\u001b[1;31mAttributeError\u001b[0m: 'Dataset' object has no attribute 'get_variable_statistics'"
     ]
    }
   ],
   "source": [
    "stats = dataset.get_variable_statistics()\n",
    "print(stats)"
   ]
  },
  {
   "cell_type": "code",
   "execution_count": null,
   "id": "c62b1506-9362-4e8f-ae4b-91a503435d75",
   "metadata": {},
   "outputs": [],
   "source": []
  }
 ],
 "metadata": {
  "kernelspec": {
   "display_name": "Python 3 (ipykernel)",
   "language": "python",
   "name": "python3"
  },
  "language_info": {
   "codemirror_mode": {
    "name": "ipython",
    "version": 3
   },
   "file_extension": ".py",
   "mimetype": "text/x-python",
   "name": "python",
   "nbconvert_exporter": "python",
   "pygments_lexer": "ipython3",
   "version": "3.9.13"
  }
 },
 "nbformat": 4,
 "nbformat_minor": 5
}
